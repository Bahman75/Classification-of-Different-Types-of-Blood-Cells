{
  "cells": [
    {
      "cell_type": "markdown",
      "metadata": {
        "id": "view-in-github",
        "colab_type": "text"
      },
      "source": [
        "<a href=\"https://colab.research.google.com/github/Bahman75/Classification-of-Different-Types-of-Blood-Cells/blob/bahman/b1.ipynb\" target=\"_parent\"><img src=\"https://colab.research.google.com/assets/colab-badge.svg\" alt=\"Open In Colab\"/></a>"
      ]
    },
    {
      "cell_type": "code",
      "execution_count": 1,
      "metadata": {
        "colab": {
          "base_uri": "https://localhost:8080/"
        },
        "id": "e5NYXJ3FFE5y",
        "outputId": "442780b3-a5d2-424b-8832-f135473e17b8"
      },
      "outputs": [
        {
          "output_type": "stream",
          "name": "stdout",
          "text": [
            "Drive already mounted.\n",
            "/content/drive/My Drive/[2024-2025] AN2DL/Homework 1\n"
          ]
        }
      ],
      "source": [
        "from google.colab import drive\n",
        "\n",
        "# Check if drive is already mounted\n",
        "import os\n",
        "if not os.path.exists('/content/drive'):\n",
        "  drive.mount('/content/drive', force_remount=True)\n",
        "else:\n",
        "  print(\"Drive already mounted.\")\n",
        "%cd /content/drive/My Drive/[2024-2025] AN2DL/Homework 1"
      ]
    },
    {
      "cell_type": "code",
      "execution_count": 2,
      "metadata": {
        "id": "wl8tyREEGmNh"
      },
      "outputs": [],
      "source": [
        "import numpy as np\n",
        "import tensorflow as tf\n",
        "from tensorflow import keras as tfk\n",
        "from tensorflow.keras import layers as tfkl\n",
        "from tensorflow.keras.preprocessing.image import ImageDataGenerator\n",
        "from sklearn.model_selection import train_test_split\n",
        "\n",
        "from imblearn.over_sampling import SMOTE\n",
        "\n",
        "np.random.seed(42)\n",
        "tf.random.set_seed(42);\n",
        "import pandas as pd\n",
        "\n",
        "import random\n",
        "import matplotlib.pyplot as plt\n",
        "seed = 42"
      ]
    },
    {
      "cell_type": "code",
      "execution_count": 3,
      "metadata": {
        "colab": {
          "base_uri": "https://localhost:8080/"
        },
        "id": "BMNj9M0Px8Xh",
        "outputId": "65c45ca5-d200-4844-fcee-b97afde03864"
      },
      "outputs": [
        {
          "output_type": "stream",
          "name": "stdout",
          "text": [
            "Drive already mounted at /content/drive; to attempt to forcibly remount, call drive.mount(\"/content/drive\", force_remount=True).\n"
          ]
        }
      ],
      "source": [
        "from google.colab import drive\n",
        "drive.mount('/content/drive')"
      ]
    },
    {
      "cell_type": "code",
      "execution_count": 4,
      "metadata": {
        "colab": {
          "base_uri": "https://localhost:8080/"
        },
        "id": "1E1Owe-1G3n6",
        "outputId": "4f440f7e-89a5-46ca-9c96-b9bbc95df903"
      },
      "outputs": [
        {
          "output_type": "stream",
          "name": "stdout",
          "text": [
            "Dimensioni originali del dataset: (13759, 96, 96, 3) (13759, 1)\n",
            "Dimensioni del dataset dopo la rimozione dei duplicati: (11953, 96, 96, 3) (11953, 1)\n",
            "Counting occurrences of target classes:\n",
            "digit\n",
            "6    2330\n",
            "1    2179\n",
            "3    2023\n",
            "7    1643\n",
            "2    1085\n",
            "5     993\n",
            "0     851\n",
            "4     849\n",
            "Name: count, dtype: int64\n",
            "\n",
            "Counting occurrences of target classes after SMOTE:\n",
            "digit\n",
            "7    2330\n",
            "0    2330\n",
            "5    2330\n",
            "3    2330\n",
            "6    2330\n",
            "2    2330\n",
            "1    2330\n",
            "4    2330\n",
            "Name: count, dtype: int64\n",
            "Training Data Shape: (16776, 96, 96, 3)\n",
            "Training Label Shape: (16776, 8)\n",
            "Validation Data Shape: (1864, 96, 96, 3)\n",
            "Validation Label Shape: (1864, 8)\n"
          ]
        }
      ],
      "source": [
        "import numpy as np\n",
        "\n",
        "data = np.load('training_set.npz')\n",
        "x = data['images']\n",
        "y = data['labels']\n",
        "\n",
        "print(\"Dimensioni originali del dataset:\", x.shape, y.shape)\n",
        "\n",
        "# Calcola l'hash di ogni immagine\n",
        "hashes = [hash(tuple(image.flatten())) for image in x]\n",
        "\n",
        "# Trova gli indici dei duplicati\n",
        "unique_indices = np.unique(hashes, return_index=True)[1]\n",
        "\n",
        "# Estrai le immagini e le labels univoche\n",
        "x = x[unique_indices]\n",
        "y = y[unique_indices]\n",
        "\n",
        "# Stampa le dimensioni del dataset dopo la rimozione dei duplicati\n",
        "print(\"Dimensioni del dataset dopo la rimozione dei duplicati:\", x.shape, y.shape)\n",
        "\n",
        "\n",
        "#stampa delle occorrenze per ogni classe prima di qualsiasi ritocco\n",
        "print('Counting occurrences of target classes:')\n",
        "print(pd.DataFrame(y, columns=['digit'])['digit'].value_counts())\n",
        "\n",
        "#sampling dei dati per equiparare le classi\n",
        "smote = SMOTE(random_state = 42)\n",
        "x_resampled, y_resampled = smote.fit_resample(x.reshape(x.shape[0], -1), y)\n",
        "x_resampled = x_resampled.reshape(-1,*x.shape[1:])\n",
        "\n",
        "#normalizzazione\n",
        "x_normalized = (x_resampled / 255).astype('float32')\n",
        "\n",
        "print('\\nCounting occurrences of target classes after SMOTE:')\n",
        "print(pd.DataFrame(y_resampled, columns=['digit'])['digit'].value_counts())\n",
        "\n",
        "\n",
        "#Convert labels to categorical format using one-hot encoding\n",
        "y_resampled_encoded = tfk.utils.to_categorical(y_resampled)\n",
        "\n",
        "x_train, x_val, y_train, y_val= train_test_split(x_resampled, y_resampled_encoded, test_size=0.1, random_state=seed, stratify=y_resampled)\n",
        "# Define a mapping of labels to their corresponding digit names\n",
        "labels = {0:'Basophil', 1:'Eosinophil', 2:'Erythroblast', 3:'Immature granulocytes', 4:'Lymphocyte', 5:'Monocyte', 6:'Neutrophil', 7:'Platelet'}\n",
        "\n",
        "# Save unique labels\n",
        "unique_labels = list(labels.values())\n",
        "#Print the shapes of the loaded datasets\n",
        "print(\"Training Data Shape:\", x_train.shape)  # (numero di esempi, altezza immagine, larghezza immagine, canali colore)\n",
        "print(\"Training Label Shape:\", y_train.shape) # (numero di esempi, numero di classi)\n",
        "print(\"Validation Data Shape:\", x_val.shape)\n",
        "print(\"Validation Label Shape:\", y_val.shape)"
      ]
    },
    {
      "cell_type": "code",
      "execution_count": 5,
      "metadata": {
        "colab": {
          "base_uri": "https://localhost:8080/"
        },
        "id": "djwzhVSbHAh7",
        "outputId": "a26c0d15-bf23-468e-9265-3da863e9cb0a"
      },
      "outputs": [
        {
          "output_type": "stream",
          "name": "stdout",
          "text": [
            "Categorical label: [0. 0. 0. 1. 0. 0. 0. 0.]\n",
            "\"Default\" label: 3\n"
          ]
        }
      ],
      "source": [
        "# Compare categorical label and \"default\" label representation\n",
        "# Display the categorical label\n",
        "print('Categorical label:', y_train[0])\n",
        "# Display the equivalent numeric label\n",
        "print('\"Default\" label:', np.argmax(y_train[0]))"
      ]
    },
    {
      "cell_type": "code",
      "execution_count": 6,
      "metadata": {
        "colab": {
          "base_uri": "https://localhost:8080/"
        },
        "id": "zN9XqvRbHDRb",
        "outputId": "8056692d-5988-4d42-d66f-eab07a633749"
      },
      "outputs": [
        {
          "output_type": "stream",
          "name": "stdout",
          "text": [
            "Input Shape: (96, 96, 3)\n",
            "Output Shape: 8\n",
            "Epochs: 30\n",
            "Batch Size: 128\n",
            "Learning Rare: 0.001\n"
          ]
        }
      ],
      "source": [
        "# Input shape for the model\n",
        "input_shape = x_train.shape[1:]\n",
        "\n",
        "# Output shape for the model\n",
        "output_shape = y_train.shape[1]\n",
        "\n",
        "print(\"Input Shape:\", input_shape)\n",
        "print(\"Output Shape:\", output_shape)\n",
        "\n",
        "# Number of training epochs\n",
        "epochs = 30\n",
        "\n",
        "# Batch size for training\n",
        "batch_size = 128\n",
        "\n",
        "# Learning rate: step size for updating the model's weights\n",
        "learning_rate = 0.001\n",
        "\n",
        "# Print the defined parameters\n",
        "print(\"Epochs:\", epochs)\n",
        "print(\"Batch Size:\", batch_size)\n",
        "print(\"Learning Rare:\", learning_rate)"
      ]
    },
    {
      "cell_type": "code",
      "execution_count": 7,
      "metadata": {
        "id": "SkcSC8t3Hvh-"
      },
      "outputs": [],
      "source": [
        "#AUGUMENTATION\n",
        "\n",
        "datagen = ImageDataGenerator(\n",
        "    rotation_range=360,  # Ruota le immagini di un angolo casuale tra 0 e 360 gradi\n",
        "    width_shift_range=0.2,\n",
        "    height_shift_range=0.2,\n",
        "    horizontal_flip=True,\n",
        "    vertical_flip=True,\n",
        "    brightness_range= (0.8, 1.2)\n",
        ")\n"
      ]
    },
    {
      "cell_type": "code",
      "execution_count": 8,
      "metadata": {
        "collapsed": true,
        "id": "2JP3hEMDIQcG"
      },
      "outputs": [],
      "source": [
        "def build_model(input_shape, output_shape):\n",
        "    # Define the input layer\n",
        "    input_layer = tfkl.Input(shape=input_shape, name='input_layer')\n",
        "\n",
        "    # Feature extraction layers\n",
        "    cnn = tfkl.Conv2D(filters=32, kernel_size=(3, 3), activation='relu', padding='same')(input_layer)\n",
        "    cnn = tfkl.Conv2D(filters=32, kernel_size=(3, 3), activation='relu', padding='same')(cnn)\n",
        "    cnn = tfkl.MaxPooling2D()(cnn)\n",
        "    cnn = tfkl.Conv2D(filters=64, kernel_size=(3, 3), activation='relu', padding='same')(cnn)\n",
        "    cnn = tfkl.Conv2D(filters=64, kernel_size=(3, 3), activation='relu', padding='same')(cnn)\n",
        "    cnn = tfkl.MaxPooling2D()(cnn)\n",
        "    cnn = tfkl.Conv2D(filters=128, kernel_size=(3, 3), activation='relu', padding='same')(cnn)\n",
        "    cnn = tfkl.Conv2D(filters=128, kernel_size=(3, 3), activation='relu', padding='same')(cnn)\n",
        "    cnn = tfkl.MaxPooling2D()(cnn)\n",
        "    cnn = tfkl.Conv2D(filters=256, kernel_size=(3, 3), activation='relu', padding='same')(cnn)\n",
        "    cnn = tfkl.MaxPooling2D()(cnn)\n",
        "    cnn = tfkl.Conv2D(filters=512, kernel_size=(3, 3), activation='relu', padding='same')(cnn)\n",
        "\n",
        "\n",
        " # Flatten layer\n",
        "    flatten = tfkl.Flatten()(cnn)\n",
        "\n",
        "    # Dense layers\n",
        "    dense = tfkl.Dense(units=64, activation='relu')(flatten)\n",
        "    dense = tfkl.Dropout(0.5)(dense)  # Aggiunto Dropout per regolarizzazione\n",
        "    dense = tfkl.Dense(units=32, activation='relu')(dense)\n",
        "\n",
        "    # Output layer\n",
        "    output_layer = tfkl.Dense(units=output_shape, activation='softmax')(dense)\n",
        "\n",
        "    # Create the model\n",
        "    model = tfk.Model(inputs=input_layer, outputs=output_layer, name='cnn_model')\n",
        "\n",
        "    # Compile the model\n",
        "    model.compile(loss=tfk.losses.CategoricalCrossentropy(), optimizer=tfk.optimizers.Adam(learning_rate), metrics=['accuracy'])\n",
        "\n",
        "    return model\n",
        "\n",
        "\n",
        "# Build the classifier model\n",
        "model = build_model(input_shape, output_shape)\n",
        "\n",
        "\n",
        "\n",
        "\n",
        "\n"
      ]
    },
    {
      "cell_type": "code",
      "execution_count": 9,
      "metadata": {
        "colab": {
          "base_uri": "https://localhost:8080/",
          "height": 727
        },
        "id": "RBqGcb-0HvQm",
        "outputId": "a7265b20-6cf9-48d5-8101-ef32e493d3ba"
      },
      "outputs": [
        {
          "output_type": "display_data",
          "data": {
            "text/plain": [
              "\u001b[1mModel: \"cnn_model\"\u001b[0m\n"
            ],
            "text/html": [
              "<pre style=\"white-space:pre;overflow-x:auto;line-height:normal;font-family:Menlo,'DejaVu Sans Mono',consolas,'Courier New',monospace\"><span style=\"font-weight: bold\">Model: \"cnn_model\"</span>\n",
              "</pre>\n"
            ]
          },
          "metadata": {}
        },
        {
          "output_type": "display_data",
          "data": {
            "text/plain": [
              "┏━━━━━━━━━━━━━━━━━━━━━━━━━━━━━━━━━━━━━┳━━━━━━━━━━━━━━━━━━━━━━━━━━━━━━┳━━━━━━━━━━━━━━━┳━━━━━━━━━┓\n",
              "┃\u001b[1m \u001b[0m\u001b[1mLayer (type)                       \u001b[0m\u001b[1m \u001b[0m┃\u001b[1m \u001b[0m\u001b[1mOutput Shape                \u001b[0m\u001b[1m \u001b[0m┃\u001b[1m \u001b[0m\u001b[1m      Param #\u001b[0m\u001b[1m \u001b[0m┃\u001b[1m \u001b[0m\u001b[1mTraina…\u001b[0m\u001b[1m \u001b[0m┃\n",
              "┡━━━━━━━━━━━━━━━━━━━━━━━━━━━━━━━━━━━━━╇━━━━━━━━━━━━━━━━━━━━━━━━━━━━━━╇━━━━━━━━━━━━━━━╇━━━━━━━━━┩\n",
              "│ input_layer (\u001b[38;5;33mInputLayer\u001b[0m)            │ (\u001b[38;5;45mNone\u001b[0m, \u001b[38;5;34m96\u001b[0m, \u001b[38;5;34m96\u001b[0m, \u001b[38;5;34m3\u001b[0m)            │             \u001b[38;5;34m0\u001b[0m │    \u001b[1m-\u001b[0m    │\n",
              "├─────────────────────────────────────┼──────────────────────────────┼───────────────┼─────────┤\n",
              "│ conv2d (\u001b[38;5;33mConv2D\u001b[0m)                     │ (\u001b[38;5;45mNone\u001b[0m, \u001b[38;5;34m96\u001b[0m, \u001b[38;5;34m96\u001b[0m, \u001b[38;5;34m32\u001b[0m)           │           \u001b[38;5;34m896\u001b[0m │    \u001b[1;38;5;34mY\u001b[0m    │\n",
              "├─────────────────────────────────────┼──────────────────────────────┼───────────────┼─────────┤\n",
              "│ conv2d_1 (\u001b[38;5;33mConv2D\u001b[0m)                   │ (\u001b[38;5;45mNone\u001b[0m, \u001b[38;5;34m96\u001b[0m, \u001b[38;5;34m96\u001b[0m, \u001b[38;5;34m32\u001b[0m)           │         \u001b[38;5;34m9,248\u001b[0m │    \u001b[1;38;5;34mY\u001b[0m    │\n",
              "├─────────────────────────────────────┼──────────────────────────────┼───────────────┼─────────┤\n",
              "│ max_pooling2d (\u001b[38;5;33mMaxPooling2D\u001b[0m)        │ (\u001b[38;5;45mNone\u001b[0m, \u001b[38;5;34m48\u001b[0m, \u001b[38;5;34m48\u001b[0m, \u001b[38;5;34m32\u001b[0m)           │             \u001b[38;5;34m0\u001b[0m │    \u001b[1m-\u001b[0m    │\n",
              "├─────────────────────────────────────┼──────────────────────────────┼───────────────┼─────────┤\n",
              "│ conv2d_2 (\u001b[38;5;33mConv2D\u001b[0m)                   │ (\u001b[38;5;45mNone\u001b[0m, \u001b[38;5;34m48\u001b[0m, \u001b[38;5;34m48\u001b[0m, \u001b[38;5;34m64\u001b[0m)           │        \u001b[38;5;34m18,496\u001b[0m │    \u001b[1;38;5;34mY\u001b[0m    │\n",
              "├─────────────────────────────────────┼──────────────────────────────┼───────────────┼─────────┤\n",
              "│ conv2d_3 (\u001b[38;5;33mConv2D\u001b[0m)                   │ (\u001b[38;5;45mNone\u001b[0m, \u001b[38;5;34m48\u001b[0m, \u001b[38;5;34m48\u001b[0m, \u001b[38;5;34m64\u001b[0m)           │        \u001b[38;5;34m36,928\u001b[0m │    \u001b[1;38;5;34mY\u001b[0m    │\n",
              "├─────────────────────────────────────┼──────────────────────────────┼───────────────┼─────────┤\n",
              "│ max_pooling2d_1 (\u001b[38;5;33mMaxPooling2D\u001b[0m)      │ (\u001b[38;5;45mNone\u001b[0m, \u001b[38;5;34m24\u001b[0m, \u001b[38;5;34m24\u001b[0m, \u001b[38;5;34m64\u001b[0m)           │             \u001b[38;5;34m0\u001b[0m │    \u001b[1m-\u001b[0m    │\n",
              "├─────────────────────────────────────┼──────────────────────────────┼───────────────┼─────────┤\n",
              "│ conv2d_4 (\u001b[38;5;33mConv2D\u001b[0m)                   │ (\u001b[38;5;45mNone\u001b[0m, \u001b[38;5;34m24\u001b[0m, \u001b[38;5;34m24\u001b[0m, \u001b[38;5;34m128\u001b[0m)          │        \u001b[38;5;34m73,856\u001b[0m │    \u001b[1;38;5;34mY\u001b[0m    │\n",
              "├─────────────────────────────────────┼──────────────────────────────┼───────────────┼─────────┤\n",
              "│ conv2d_5 (\u001b[38;5;33mConv2D\u001b[0m)                   │ (\u001b[38;5;45mNone\u001b[0m, \u001b[38;5;34m24\u001b[0m, \u001b[38;5;34m24\u001b[0m, \u001b[38;5;34m128\u001b[0m)          │       \u001b[38;5;34m147,584\u001b[0m │    \u001b[1;38;5;34mY\u001b[0m    │\n",
              "├─────────────────────────────────────┼──────────────────────────────┼───────────────┼─────────┤\n",
              "│ max_pooling2d_2 (\u001b[38;5;33mMaxPooling2D\u001b[0m)      │ (\u001b[38;5;45mNone\u001b[0m, \u001b[38;5;34m12\u001b[0m, \u001b[38;5;34m12\u001b[0m, \u001b[38;5;34m128\u001b[0m)          │             \u001b[38;5;34m0\u001b[0m │    \u001b[1m-\u001b[0m    │\n",
              "├─────────────────────────────────────┼──────────────────────────────┼───────────────┼─────────┤\n",
              "│ conv2d_6 (\u001b[38;5;33mConv2D\u001b[0m)                   │ (\u001b[38;5;45mNone\u001b[0m, \u001b[38;5;34m12\u001b[0m, \u001b[38;5;34m12\u001b[0m, \u001b[38;5;34m256\u001b[0m)          │       \u001b[38;5;34m295,168\u001b[0m │    \u001b[1;38;5;34mY\u001b[0m    │\n",
              "├─────────────────────────────────────┼──────────────────────────────┼───────────────┼─────────┤\n",
              "│ max_pooling2d_3 (\u001b[38;5;33mMaxPooling2D\u001b[0m)      │ (\u001b[38;5;45mNone\u001b[0m, \u001b[38;5;34m6\u001b[0m, \u001b[38;5;34m6\u001b[0m, \u001b[38;5;34m256\u001b[0m)            │             \u001b[38;5;34m0\u001b[0m │    \u001b[1m-\u001b[0m    │\n",
              "├─────────────────────────────────────┼──────────────────────────────┼───────────────┼─────────┤\n",
              "│ conv2d_7 (\u001b[38;5;33mConv2D\u001b[0m)                   │ (\u001b[38;5;45mNone\u001b[0m, \u001b[38;5;34m6\u001b[0m, \u001b[38;5;34m6\u001b[0m, \u001b[38;5;34m512\u001b[0m)            │     \u001b[38;5;34m1,180,160\u001b[0m │    \u001b[1;38;5;34mY\u001b[0m    │\n",
              "├─────────────────────────────────────┼──────────────────────────────┼───────────────┼─────────┤\n",
              "│ flatten (\u001b[38;5;33mFlatten\u001b[0m)                   │ (\u001b[38;5;45mNone\u001b[0m, \u001b[38;5;34m18432\u001b[0m)                │             \u001b[38;5;34m0\u001b[0m │    \u001b[1m-\u001b[0m    │\n",
              "├─────────────────────────────────────┼──────────────────────────────┼───────────────┼─────────┤\n",
              "│ dense (\u001b[38;5;33mDense\u001b[0m)                       │ (\u001b[38;5;45mNone\u001b[0m, \u001b[38;5;34m64\u001b[0m)                   │     \u001b[38;5;34m1,179,712\u001b[0m │    \u001b[1;38;5;34mY\u001b[0m    │\n",
              "├─────────────────────────────────────┼──────────────────────────────┼───────────────┼─────────┤\n",
              "│ dropout (\u001b[38;5;33mDropout\u001b[0m)                   │ (\u001b[38;5;45mNone\u001b[0m, \u001b[38;5;34m64\u001b[0m)                   │             \u001b[38;5;34m0\u001b[0m │    \u001b[1m-\u001b[0m    │\n",
              "├─────────────────────────────────────┼──────────────────────────────┼───────────────┼─────────┤\n",
              "│ dense_1 (\u001b[38;5;33mDense\u001b[0m)                     │ (\u001b[38;5;45mNone\u001b[0m, \u001b[38;5;34m32\u001b[0m)                   │         \u001b[38;5;34m2,080\u001b[0m │    \u001b[1;38;5;34mY\u001b[0m    │\n",
              "├─────────────────────────────────────┼──────────────────────────────┼───────────────┼─────────┤\n",
              "│ dense_2 (\u001b[38;5;33mDense\u001b[0m)                     │ (\u001b[38;5;45mNone\u001b[0m, \u001b[38;5;34m8\u001b[0m)                    │           \u001b[38;5;34m264\u001b[0m │    \u001b[1;38;5;34mY\u001b[0m    │\n",
              "└─────────────────────────────────────┴──────────────────────────────┴───────────────┴─────────┘\n"
            ],
            "text/html": [
              "<pre style=\"white-space:pre;overflow-x:auto;line-height:normal;font-family:Menlo,'DejaVu Sans Mono',consolas,'Courier New',monospace\">┏━━━━━━━━━━━━━━━━━━━━━━━━━━━━━━━━━━━━━┳━━━━━━━━━━━━━━━━━━━━━━━━━━━━━━┳━━━━━━━━━━━━━━━┳━━━━━━━━━┓\n",
              "┃<span style=\"font-weight: bold\"> Layer (type)                        </span>┃<span style=\"font-weight: bold\"> Output Shape                 </span>┃<span style=\"font-weight: bold\">       Param # </span>┃<span style=\"font-weight: bold\"> Traina… </span>┃\n",
              "┡━━━━━━━━━━━━━━━━━━━━━━━━━━━━━━━━━━━━━╇━━━━━━━━━━━━━━━━━━━━━━━━━━━━━━╇━━━━━━━━━━━━━━━╇━━━━━━━━━┩\n",
              "│ input_layer (<span style=\"color: #0087ff; text-decoration-color: #0087ff\">InputLayer</span>)            │ (<span style=\"color: #00d7ff; text-decoration-color: #00d7ff\">None</span>, <span style=\"color: #00af00; text-decoration-color: #00af00\">96</span>, <span style=\"color: #00af00; text-decoration-color: #00af00\">96</span>, <span style=\"color: #00af00; text-decoration-color: #00af00\">3</span>)            │             <span style=\"color: #00af00; text-decoration-color: #00af00\">0</span> │    <span style=\"font-weight: bold\">-</span>    │\n",
              "├─────────────────────────────────────┼──────────────────────────────┼───────────────┼─────────┤\n",
              "│ conv2d (<span style=\"color: #0087ff; text-decoration-color: #0087ff\">Conv2D</span>)                     │ (<span style=\"color: #00d7ff; text-decoration-color: #00d7ff\">None</span>, <span style=\"color: #00af00; text-decoration-color: #00af00\">96</span>, <span style=\"color: #00af00; text-decoration-color: #00af00\">96</span>, <span style=\"color: #00af00; text-decoration-color: #00af00\">32</span>)           │           <span style=\"color: #00af00; text-decoration-color: #00af00\">896</span> │    <span style=\"color: #00af00; text-decoration-color: #00af00; font-weight: bold\">Y</span>    │\n",
              "├─────────────────────────────────────┼──────────────────────────────┼───────────────┼─────────┤\n",
              "│ conv2d_1 (<span style=\"color: #0087ff; text-decoration-color: #0087ff\">Conv2D</span>)                   │ (<span style=\"color: #00d7ff; text-decoration-color: #00d7ff\">None</span>, <span style=\"color: #00af00; text-decoration-color: #00af00\">96</span>, <span style=\"color: #00af00; text-decoration-color: #00af00\">96</span>, <span style=\"color: #00af00; text-decoration-color: #00af00\">32</span>)           │         <span style=\"color: #00af00; text-decoration-color: #00af00\">9,248</span> │    <span style=\"color: #00af00; text-decoration-color: #00af00; font-weight: bold\">Y</span>    │\n",
              "├─────────────────────────────────────┼──────────────────────────────┼───────────────┼─────────┤\n",
              "│ max_pooling2d (<span style=\"color: #0087ff; text-decoration-color: #0087ff\">MaxPooling2D</span>)        │ (<span style=\"color: #00d7ff; text-decoration-color: #00d7ff\">None</span>, <span style=\"color: #00af00; text-decoration-color: #00af00\">48</span>, <span style=\"color: #00af00; text-decoration-color: #00af00\">48</span>, <span style=\"color: #00af00; text-decoration-color: #00af00\">32</span>)           │             <span style=\"color: #00af00; text-decoration-color: #00af00\">0</span> │    <span style=\"font-weight: bold\">-</span>    │\n",
              "├─────────────────────────────────────┼──────────────────────────────┼───────────────┼─────────┤\n",
              "│ conv2d_2 (<span style=\"color: #0087ff; text-decoration-color: #0087ff\">Conv2D</span>)                   │ (<span style=\"color: #00d7ff; text-decoration-color: #00d7ff\">None</span>, <span style=\"color: #00af00; text-decoration-color: #00af00\">48</span>, <span style=\"color: #00af00; text-decoration-color: #00af00\">48</span>, <span style=\"color: #00af00; text-decoration-color: #00af00\">64</span>)           │        <span style=\"color: #00af00; text-decoration-color: #00af00\">18,496</span> │    <span style=\"color: #00af00; text-decoration-color: #00af00; font-weight: bold\">Y</span>    │\n",
              "├─────────────────────────────────────┼──────────────────────────────┼───────────────┼─────────┤\n",
              "│ conv2d_3 (<span style=\"color: #0087ff; text-decoration-color: #0087ff\">Conv2D</span>)                   │ (<span style=\"color: #00d7ff; text-decoration-color: #00d7ff\">None</span>, <span style=\"color: #00af00; text-decoration-color: #00af00\">48</span>, <span style=\"color: #00af00; text-decoration-color: #00af00\">48</span>, <span style=\"color: #00af00; text-decoration-color: #00af00\">64</span>)           │        <span style=\"color: #00af00; text-decoration-color: #00af00\">36,928</span> │    <span style=\"color: #00af00; text-decoration-color: #00af00; font-weight: bold\">Y</span>    │\n",
              "├─────────────────────────────────────┼──────────────────────────────┼───────────────┼─────────┤\n",
              "│ max_pooling2d_1 (<span style=\"color: #0087ff; text-decoration-color: #0087ff\">MaxPooling2D</span>)      │ (<span style=\"color: #00d7ff; text-decoration-color: #00d7ff\">None</span>, <span style=\"color: #00af00; text-decoration-color: #00af00\">24</span>, <span style=\"color: #00af00; text-decoration-color: #00af00\">24</span>, <span style=\"color: #00af00; text-decoration-color: #00af00\">64</span>)           │             <span style=\"color: #00af00; text-decoration-color: #00af00\">0</span> │    <span style=\"font-weight: bold\">-</span>    │\n",
              "├─────────────────────────────────────┼──────────────────────────────┼───────────────┼─────────┤\n",
              "│ conv2d_4 (<span style=\"color: #0087ff; text-decoration-color: #0087ff\">Conv2D</span>)                   │ (<span style=\"color: #00d7ff; text-decoration-color: #00d7ff\">None</span>, <span style=\"color: #00af00; text-decoration-color: #00af00\">24</span>, <span style=\"color: #00af00; text-decoration-color: #00af00\">24</span>, <span style=\"color: #00af00; text-decoration-color: #00af00\">128</span>)          │        <span style=\"color: #00af00; text-decoration-color: #00af00\">73,856</span> │    <span style=\"color: #00af00; text-decoration-color: #00af00; font-weight: bold\">Y</span>    │\n",
              "├─────────────────────────────────────┼──────────────────────────────┼───────────────┼─────────┤\n",
              "│ conv2d_5 (<span style=\"color: #0087ff; text-decoration-color: #0087ff\">Conv2D</span>)                   │ (<span style=\"color: #00d7ff; text-decoration-color: #00d7ff\">None</span>, <span style=\"color: #00af00; text-decoration-color: #00af00\">24</span>, <span style=\"color: #00af00; text-decoration-color: #00af00\">24</span>, <span style=\"color: #00af00; text-decoration-color: #00af00\">128</span>)          │       <span style=\"color: #00af00; text-decoration-color: #00af00\">147,584</span> │    <span style=\"color: #00af00; text-decoration-color: #00af00; font-weight: bold\">Y</span>    │\n",
              "├─────────────────────────────────────┼──────────────────────────────┼───────────────┼─────────┤\n",
              "│ max_pooling2d_2 (<span style=\"color: #0087ff; text-decoration-color: #0087ff\">MaxPooling2D</span>)      │ (<span style=\"color: #00d7ff; text-decoration-color: #00d7ff\">None</span>, <span style=\"color: #00af00; text-decoration-color: #00af00\">12</span>, <span style=\"color: #00af00; text-decoration-color: #00af00\">12</span>, <span style=\"color: #00af00; text-decoration-color: #00af00\">128</span>)          │             <span style=\"color: #00af00; text-decoration-color: #00af00\">0</span> │    <span style=\"font-weight: bold\">-</span>    │\n",
              "├─────────────────────────────────────┼──────────────────────────────┼───────────────┼─────────┤\n",
              "│ conv2d_6 (<span style=\"color: #0087ff; text-decoration-color: #0087ff\">Conv2D</span>)                   │ (<span style=\"color: #00d7ff; text-decoration-color: #00d7ff\">None</span>, <span style=\"color: #00af00; text-decoration-color: #00af00\">12</span>, <span style=\"color: #00af00; text-decoration-color: #00af00\">12</span>, <span style=\"color: #00af00; text-decoration-color: #00af00\">256</span>)          │       <span style=\"color: #00af00; text-decoration-color: #00af00\">295,168</span> │    <span style=\"color: #00af00; text-decoration-color: #00af00; font-weight: bold\">Y</span>    │\n",
              "├─────────────────────────────────────┼──────────────────────────────┼───────────────┼─────────┤\n",
              "│ max_pooling2d_3 (<span style=\"color: #0087ff; text-decoration-color: #0087ff\">MaxPooling2D</span>)      │ (<span style=\"color: #00d7ff; text-decoration-color: #00d7ff\">None</span>, <span style=\"color: #00af00; text-decoration-color: #00af00\">6</span>, <span style=\"color: #00af00; text-decoration-color: #00af00\">6</span>, <span style=\"color: #00af00; text-decoration-color: #00af00\">256</span>)            │             <span style=\"color: #00af00; text-decoration-color: #00af00\">0</span> │    <span style=\"font-weight: bold\">-</span>    │\n",
              "├─────────────────────────────────────┼──────────────────────────────┼───────────────┼─────────┤\n",
              "│ conv2d_7 (<span style=\"color: #0087ff; text-decoration-color: #0087ff\">Conv2D</span>)                   │ (<span style=\"color: #00d7ff; text-decoration-color: #00d7ff\">None</span>, <span style=\"color: #00af00; text-decoration-color: #00af00\">6</span>, <span style=\"color: #00af00; text-decoration-color: #00af00\">6</span>, <span style=\"color: #00af00; text-decoration-color: #00af00\">512</span>)            │     <span style=\"color: #00af00; text-decoration-color: #00af00\">1,180,160</span> │    <span style=\"color: #00af00; text-decoration-color: #00af00; font-weight: bold\">Y</span>    │\n",
              "├─────────────────────────────────────┼──────────────────────────────┼───────────────┼─────────┤\n",
              "│ flatten (<span style=\"color: #0087ff; text-decoration-color: #0087ff\">Flatten</span>)                   │ (<span style=\"color: #00d7ff; text-decoration-color: #00d7ff\">None</span>, <span style=\"color: #00af00; text-decoration-color: #00af00\">18432</span>)                │             <span style=\"color: #00af00; text-decoration-color: #00af00\">0</span> │    <span style=\"font-weight: bold\">-</span>    │\n",
              "├─────────────────────────────────────┼──────────────────────────────┼───────────────┼─────────┤\n",
              "│ dense (<span style=\"color: #0087ff; text-decoration-color: #0087ff\">Dense</span>)                       │ (<span style=\"color: #00d7ff; text-decoration-color: #00d7ff\">None</span>, <span style=\"color: #00af00; text-decoration-color: #00af00\">64</span>)                   │     <span style=\"color: #00af00; text-decoration-color: #00af00\">1,179,712</span> │    <span style=\"color: #00af00; text-decoration-color: #00af00; font-weight: bold\">Y</span>    │\n",
              "├─────────────────────────────────────┼──────────────────────────────┼───────────────┼─────────┤\n",
              "│ dropout (<span style=\"color: #0087ff; text-decoration-color: #0087ff\">Dropout</span>)                   │ (<span style=\"color: #00d7ff; text-decoration-color: #00d7ff\">None</span>, <span style=\"color: #00af00; text-decoration-color: #00af00\">64</span>)                   │             <span style=\"color: #00af00; text-decoration-color: #00af00\">0</span> │    <span style=\"font-weight: bold\">-</span>    │\n",
              "├─────────────────────────────────────┼──────────────────────────────┼───────────────┼─────────┤\n",
              "│ dense_1 (<span style=\"color: #0087ff; text-decoration-color: #0087ff\">Dense</span>)                     │ (<span style=\"color: #00d7ff; text-decoration-color: #00d7ff\">None</span>, <span style=\"color: #00af00; text-decoration-color: #00af00\">32</span>)                   │         <span style=\"color: #00af00; text-decoration-color: #00af00\">2,080</span> │    <span style=\"color: #00af00; text-decoration-color: #00af00; font-weight: bold\">Y</span>    │\n",
              "├─────────────────────────────────────┼──────────────────────────────┼───────────────┼─────────┤\n",
              "│ dense_2 (<span style=\"color: #0087ff; text-decoration-color: #0087ff\">Dense</span>)                     │ (<span style=\"color: #00d7ff; text-decoration-color: #00d7ff\">None</span>, <span style=\"color: #00af00; text-decoration-color: #00af00\">8</span>)                    │           <span style=\"color: #00af00; text-decoration-color: #00af00\">264</span> │    <span style=\"color: #00af00; text-decoration-color: #00af00; font-weight: bold\">Y</span>    │\n",
              "└─────────────────────────────────────┴──────────────────────────────┴───────────────┴─────────┘\n",
              "</pre>\n"
            ]
          },
          "metadata": {}
        },
        {
          "output_type": "display_data",
          "data": {
            "text/plain": [
              "\u001b[1m Total params: \u001b[0m\u001b[38;5;34m2,944,392\u001b[0m (11.23 MB)\n"
            ],
            "text/html": [
              "<pre style=\"white-space:pre;overflow-x:auto;line-height:normal;font-family:Menlo,'DejaVu Sans Mono',consolas,'Courier New',monospace\"><span style=\"font-weight: bold\"> Total params: </span><span style=\"color: #00af00; text-decoration-color: #00af00\">2,944,392</span> (11.23 MB)\n",
              "</pre>\n"
            ]
          },
          "metadata": {}
        },
        {
          "output_type": "display_data",
          "data": {
            "text/plain": [
              "\u001b[1m Trainable params: \u001b[0m\u001b[38;5;34m2,944,392\u001b[0m (11.23 MB)\n"
            ],
            "text/html": [
              "<pre style=\"white-space:pre;overflow-x:auto;line-height:normal;font-family:Menlo,'DejaVu Sans Mono',consolas,'Courier New',monospace\"><span style=\"font-weight: bold\"> Trainable params: </span><span style=\"color: #00af00; text-decoration-color: #00af00\">2,944,392</span> (11.23 MB)\n",
              "</pre>\n"
            ]
          },
          "metadata": {}
        },
        {
          "output_type": "display_data",
          "data": {
            "text/plain": [
              "\u001b[1m Non-trainable params: \u001b[0m\u001b[38;5;34m0\u001b[0m (0.00 B)\n"
            ],
            "text/html": [
              "<pre style=\"white-space:pre;overflow-x:auto;line-height:normal;font-family:Menlo,'DejaVu Sans Mono',consolas,'Courier New',monospace\"><span style=\"font-weight: bold\"> Non-trainable params: </span><span style=\"color: #00af00; text-decoration-color: #00af00\">0</span> (0.00 B)\n",
              "</pre>\n"
            ]
          },
          "metadata": {}
        }
      ],
      "source": [
        "# Display a summary of the model architecture\n",
        "model.summary(expand_nested=True, show_trainable=True)\n",
        "\n",
        "# Plot the model architecture\n",
        "# tfk.utils.plot_model(model, expand_nested=True, show_trainable=True, show_shapes=True, dpi=70)"
      ]
    },
    {
      "cell_type": "code",
      "execution_count": 10,
      "metadata": {
        "colab": {
          "base_uri": "https://localhost:8080/",
          "height": 1000
        },
        "id": "NUcyJWdIHmGJ",
        "outputId": "9d99fd74-3f4c-4b83-927b-861007cc8c11"
      },
      "outputs": [
        {
          "output_type": "stream",
          "name": "stdout",
          "text": [
            "\n",
            "Training on Fold 1...\n",
            "Epoch 1/30\n"
          ]
        },
        {
          "output_type": "stream",
          "name": "stderr",
          "text": [
            "/usr/local/lib/python3.10/dist-packages/keras/src/trainers/data_adapters/py_dataset_adapter.py:122: UserWarning: Your `PyDataset` class should call `super().__init__(**kwargs)` in its constructor. `**kwargs` can include `workers`, `use_multiprocessing`, `max_queue_size`. Do not pass these arguments to `fit()`, as they will be ignored.\n",
            "  self._warn_if_super_not_called()\n"
          ]
        },
        {
          "output_type": "stream",
          "name": "stdout",
          "text": [
            "\u001b[1m73/73\u001b[0m \u001b[32m━━━━━━━━━━━━━━━━━━━━\u001b[0m\u001b[37m\u001b[0m \u001b[1m67s\u001b[0m 654ms/step - accuracy: 0.1251 - loss: 3.8347 - val_accuracy: 0.1234 - val_loss: 2.0797\n",
            "Epoch 2/30\n",
            "\u001b[1m73/73\u001b[0m \u001b[32m━━━━━━━━━━━━━━━━━━━━\u001b[0m\u001b[37m\u001b[0m \u001b[1m53s\u001b[0m 443ms/step - accuracy: 0.1356 - loss: 2.0791 - val_accuracy: 0.1223 - val_loss: 2.0798\n",
            "Epoch 3/30\n",
            "\u001b[1m73/73\u001b[0m \u001b[32m━━━━━━━━━━━━━━━━━━━━\u001b[0m\u001b[37m\u001b[0m \u001b[1m35s\u001b[0m 439ms/step - accuracy: 0.1276 - loss: 2.0793 - val_accuracy: 0.1223 - val_loss: 2.0797\n",
            "Epoch 4/30\n",
            "\u001b[1m73/73\u001b[0m \u001b[32m━━━━━━━━━━━━━━━━━━━━\u001b[0m\u001b[37m\u001b[0m \u001b[1m35s\u001b[0m 436ms/step - accuracy: 0.1225 - loss: 2.0793 - val_accuracy: 0.1223 - val_loss: 2.0798\n",
            "Epoch 5/30\n",
            "\u001b[1m73/73\u001b[0m \u001b[32m━━━━━━━━━━━━━━━━━━━━\u001b[0m\u001b[37m\u001b[0m \u001b[1m42s\u001b[0m 436ms/step - accuracy: 0.1314 - loss: 2.0791 - val_accuracy: 0.1223 - val_loss: 2.0798\n",
            "Fold 1 - Validation Accuracy: 0.1234\n",
            "\n",
            "Training on Fold 2...\n",
            "Epoch 1/30\n",
            "\u001b[1m73/73\u001b[0m \u001b[32m━━━━━━━━━━━━━━━━━━━━\u001b[0m\u001b[37m\u001b[0m \u001b[1m44s\u001b[0m 484ms/step - accuracy: 0.1335 - loss: 2.6964 - val_accuracy: 0.1836 - val_loss: 1.9889\n",
            "Epoch 2/30\n",
            "\u001b[1m73/73\u001b[0m \u001b[32m━━━━━━━━━━━━━━━━━━━━\u001b[0m\u001b[37m\u001b[0m \u001b[1m75s\u001b[0m 419ms/step - accuracy: 0.1630 - loss: 2.0411 - val_accuracy: 0.2932 - val_loss: 1.9227\n",
            "Epoch 3/30\n",
            "\u001b[1m73/73\u001b[0m \u001b[32m━━━━━━━━━━━━━━━━━━━━\u001b[0m\u001b[37m\u001b[0m \u001b[1m34s\u001b[0m 438ms/step - accuracy: 0.2244 - loss: 1.9500 - val_accuracy: 0.2613 - val_loss: 1.7943\n",
            "Epoch 4/30\n",
            "\u001b[1m73/73\u001b[0m \u001b[32m━━━━━━━━━━━━━━━━━━━━\u001b[0m\u001b[37m\u001b[0m \u001b[1m34s\u001b[0m 431ms/step - accuracy: 0.2339 - loss: 1.8599 - val_accuracy: 0.3157 - val_loss: 1.7199\n",
            "Epoch 5/30\n",
            "\u001b[1m73/73\u001b[0m \u001b[32m━━━━━━━━━━━━━━━━━━━━\u001b[0m\u001b[37m\u001b[0m \u001b[1m35s\u001b[0m 433ms/step - accuracy: 0.2856 - loss: 1.7866 - val_accuracy: 0.3335 - val_loss: 1.8381\n",
            "Epoch 6/30\n",
            "\u001b[1m73/73\u001b[0m \u001b[32m━━━━━━━━━━━━━━━━━━━━\u001b[0m\u001b[37m\u001b[0m \u001b[1m42s\u001b[0m 444ms/step - accuracy: 0.3432 - loss: 1.6397 - val_accuracy: 0.4777 - val_loss: 1.3151\n",
            "Epoch 7/30\n",
            "\u001b[1m73/73\u001b[0m \u001b[32m━━━━━━━━━━━━━━━━━━━━\u001b[0m\u001b[37m\u001b[0m \u001b[1m42s\u001b[0m 457ms/step - accuracy: 0.3622 - loss: 1.5111 - val_accuracy: 0.4269 - val_loss: 1.3162\n",
            "Epoch 8/30\n",
            "\u001b[1m73/73\u001b[0m \u001b[32m━━━━━━━━━━━━━━━━━━━━\u001b[0m\u001b[37m\u001b[0m \u001b[1m39s\u001b[0m 447ms/step - accuracy: 0.4095 - loss: 1.4084 - val_accuracy: 0.4872 - val_loss: 1.2002\n",
            "Epoch 9/30\n",
            "\u001b[1m73/73\u001b[0m \u001b[32m━━━━━━━━━━━━━━━━━━━━\u001b[0m\u001b[37m\u001b[0m \u001b[1m41s\u001b[0m 453ms/step - accuracy: 0.4445 - loss: 1.3216 - val_accuracy: 0.4888 - val_loss: 1.2412\n",
            "Epoch 10/30\n",
            "\u001b[1m73/73\u001b[0m \u001b[32m━━━━━━━━━━━━━━━━━━━━\u001b[0m\u001b[37m\u001b[0m \u001b[1m36s\u001b[0m 441ms/step - accuracy: 0.4981 - loss: 1.1871 - val_accuracy: 0.5544 - val_loss: 1.0300\n",
            "Epoch 11/30\n",
            "\u001b[1m73/73\u001b[0m \u001b[32m━━━━━━━━━━━━━━━━━━━━\u001b[0m\u001b[37m\u001b[0m \u001b[1m42s\u001b[0m 455ms/step - accuracy: 0.5350 - loss: 1.0615 - val_accuracy: 0.6094 - val_loss: 0.8986\n",
            "Epoch 12/30\n",
            "\u001b[1m73/73\u001b[0m \u001b[32m━━━━━━━━━━━━━━━━━━━━\u001b[0m\u001b[37m\u001b[0m \u001b[1m39s\u001b[0m 448ms/step - accuracy: 0.5822 - loss: 1.0061 - val_accuracy: 0.6099 - val_loss: 0.9148\n",
            "Epoch 13/30\n",
            "\u001b[1m73/73\u001b[0m \u001b[32m━━━━━━━━━━━━━━━━━━━━\u001b[0m\u001b[37m\u001b[0m \u001b[1m36s\u001b[0m 434ms/step - accuracy: 0.5878 - loss: 0.9845 - val_accuracy: 0.6650 - val_loss: 0.8148\n",
            "Epoch 14/30\n",
            "\u001b[1m73/73\u001b[0m \u001b[32m━━━━━━━━━━━━━━━━━━━━\u001b[0m\u001b[37m\u001b[0m \u001b[1m34s\u001b[0m 437ms/step - accuracy: 0.6264 - loss: 0.8786 - val_accuracy: 0.6938 - val_loss: 0.7698\n",
            "Epoch 15/30\n",
            "\u001b[1m73/73\u001b[0m \u001b[32m━━━━━━━━━━━━━━━━━━━━\u001b[0m\u001b[37m\u001b[0m \u001b[1m35s\u001b[0m 439ms/step - accuracy: 0.6467 - loss: 0.8613 - val_accuracy: 0.6863 - val_loss: 0.7956\n",
            "Epoch 16/30\n",
            "\u001b[1m73/73\u001b[0m \u001b[32m━━━━━━━━━━━━━━━━━━━━\u001b[0m\u001b[37m\u001b[0m \u001b[1m41s\u001b[0m 442ms/step - accuracy: 0.6570 - loss: 0.8435 - val_accuracy: 0.6983 - val_loss: 0.7495\n",
            "Epoch 17/30\n",
            "\u001b[1m73/73\u001b[0m \u001b[32m━━━━━━━━━━━━━━━━━━━━\u001b[0m\u001b[37m\u001b[0m \u001b[1m37s\u001b[0m 459ms/step - accuracy: 0.6887 - loss: 0.7913 - val_accuracy: 0.7292 - val_loss: 0.6869\n",
            "Epoch 18/30\n",
            "\u001b[1m73/73\u001b[0m \u001b[32m━━━━━━━━━━━━━━━━━━━━\u001b[0m\u001b[37m\u001b[0m \u001b[1m39s\u001b[0m 444ms/step - accuracy: 0.7304 - loss: 0.7022 - val_accuracy: 0.6575 - val_loss: 0.9537\n",
            "Epoch 19/30\n",
            "\u001b[1m73/73\u001b[0m \u001b[32m━━━━━━━━━━━━━━━━━━━━\u001b[0m\u001b[37m\u001b[0m \u001b[1m35s\u001b[0m 439ms/step - accuracy: 0.6953 - loss: 0.7805 - val_accuracy: 0.7694 - val_loss: 0.5975\n",
            "Epoch 20/30\n",
            "\u001b[1m73/73\u001b[0m \u001b[32m━━━━━━━━━━━━━━━━━━━━\u001b[0m\u001b[37m\u001b[0m \u001b[1m41s\u001b[0m 446ms/step - accuracy: 0.7535 - loss: 0.6274 - val_accuracy: 0.7751 - val_loss: 0.5686\n",
            "Epoch 21/30\n",
            "\u001b[1m73/73\u001b[0m \u001b[32m━━━━━━━━━━━━━━━━━━━━\u001b[0m\u001b[37m\u001b[0m \u001b[1m41s\u001b[0m 437ms/step - accuracy: 0.7601 - loss: 0.6736 - val_accuracy: 0.7877 - val_loss: 0.5274\n",
            "Epoch 22/30\n",
            "\u001b[1m73/73\u001b[0m \u001b[32m━━━━━━━━━━━━━━━━━━━━\u001b[0m\u001b[37m\u001b[0m \u001b[1m35s\u001b[0m 441ms/step - accuracy: 0.7777 - loss: 0.5976 - val_accuracy: 0.7990 - val_loss: 0.5584\n",
            "Epoch 23/30\n",
            "\u001b[1m73/73\u001b[0m \u001b[32m━━━━━━━━━━━━━━━━━━━━\u001b[0m\u001b[37m\u001b[0m \u001b[1m41s\u001b[0m 441ms/step - accuracy: 0.7713 - loss: 0.6092 - val_accuracy: 0.8180 - val_loss: 0.5017\n",
            "Epoch 24/30\n",
            "\u001b[1m73/73\u001b[0m \u001b[32m━━━━━━━━━━━━━━━━━━━━\u001b[0m\u001b[37m\u001b[0m \u001b[1m36s\u001b[0m 448ms/step - accuracy: 0.8152 - loss: 0.5374 - val_accuracy: 0.8240 - val_loss: 0.5048\n",
            "Epoch 25/30\n",
            "\u001b[1m73/73\u001b[0m \u001b[32m━━━━━━━━━━━━━━━━━━━━\u001b[0m\u001b[37m\u001b[0m \u001b[1m40s\u001b[0m 450ms/step - accuracy: 0.8182 - loss: 0.5239 - val_accuracy: 0.8038 - val_loss: 0.5353\n",
            "Epoch 26/30\n",
            "\u001b[1m73/73\u001b[0m \u001b[32m━━━━━━━━━━━━━━━━━━━━\u001b[0m\u001b[37m\u001b[0m \u001b[1m40s\u001b[0m 436ms/step - accuracy: 0.8342 - loss: 0.4980 - val_accuracy: 0.8455 - val_loss: 0.4145\n",
            "Epoch 27/30\n",
            "\u001b[1m73/73\u001b[0m \u001b[32m━━━━━━━━━━━━━━━━━━━━\u001b[0m\u001b[37m\u001b[0m \u001b[1m42s\u001b[0m 452ms/step - accuracy: 0.8442 - loss: 0.4487 - val_accuracy: 0.8688 - val_loss: 0.3989\n",
            "Epoch 28/30\n",
            "\u001b[1m73/73\u001b[0m \u001b[32m━━━━━━━━━━━━━━━━━━━━\u001b[0m\u001b[37m\u001b[0m \u001b[1m36s\u001b[0m 443ms/step - accuracy: 0.8426 - loss: 0.4637 - val_accuracy: 0.8754 - val_loss: 0.3893\n",
            "Epoch 29/30\n",
            "\u001b[1m73/73\u001b[0m \u001b[32m━━━━━━━━━━━━━━━━━━━━\u001b[0m\u001b[37m\u001b[0m \u001b[1m40s\u001b[0m 450ms/step - accuracy: 0.8614 - loss: 0.4099 - val_accuracy: 0.8806 - val_loss: 0.3480\n",
            "Epoch 30/30\n",
            "\u001b[1m73/73\u001b[0m \u001b[32m━━━━━━━━━━━━━━━━━━━━\u001b[0m\u001b[37m\u001b[0m \u001b[1m40s\u001b[0m 443ms/step - accuracy: 0.8758 - loss: 0.3996 - val_accuracy: 0.8523 - val_loss: 0.4600\n",
            "Fold 2 - Validation Accuracy: 0.8806\n",
            "\n",
            "Cross-Validation Results:\n",
            "Mean Accuracy: 0.5020\n",
            "Standard Deviation: 0.3786\n"
          ]
        },
        {
          "output_type": "display_data",
          "data": {
            "text/plain": [
              "<Figure size 1000x500 with 1 Axes>"
            ],
            "image/png": "[encoded data removed]"
          },
          "metadata": {}
        }
      ],
      "source": [
        "from sklearn.model_selection import KFold\n",
        "from sklearn.metrics import accuracy_score\n",
        "\n",
        "\n",
        "seed = 42\n",
        "\n",
        "# Define the number of folds for cross-validation\n",
        "n_splits = 2\n",
        "kf = KFold(n_splits=n_splits, shuffle=True, random_state=seed)\n",
        "\n",
        "# Store the accuracy for each fold\n",
        "accuracy_list = []\n",
        "fold = 1\n",
        "\n",
        "# K-Fold Cross Validation Loop\n",
        "for train_index, val_index in kf.split(x_resampled):\n",
        "    print(f\"\\nTraining on Fold {fold}...\")\n",
        "\n",
        "    # Split the dataset into training and validation sets for this fold\n",
        "    x_train_fold, x_val_fold = x_resampled[train_index], x_resampled[val_index]\n",
        "    y_train_fold, y_val_fold = y_resampled_encoded[train_index], y_resampled_encoded[val_index]\n",
        "\n",
        "    # Build a new model for each fold\n",
        "    model = build_model(input_shape, output_shape)\n",
        "\n",
        "    # Define EarlyStopping callback\n",
        "    early_stopping = tfk.callbacks.EarlyStopping(\n",
        "        monitor='val_accuracy',\n",
        "        mode='max',\n",
        "        patience=4,\n",
        "        restore_best_weights=True\n",
        "    )\n",
        "\n",
        "    # Data augmentation generator\n",
        "    train_generator = datagen.flow(x_train_fold, y_train_fold, batch_size=batch_size)\n",
        "\n",
        "    # Train the model\n",
        "    history = model.fit(\n",
        "        train_generator,\n",
        "        epochs=epochs,\n",
        "        validation_data=(x_val_fold, y_val_fold),\n",
        "        callbacks=[early_stopping],\n",
        "        verbose=1\n",
        "    ).history\n",
        "\n",
        "    # Evaluate the model on the validation set\n",
        "    val_loss, val_acc = model.evaluate(x_val_fold, y_val_fold, verbose=0)\n",
        "    print(f\"Fold {fold} - Validation Accuracy: {val_acc:.4f}\")\n",
        "\n",
        "    accuracy_list.append(val_acc)\n",
        "    fold += 1\n",
        "\n",
        "# Calculate and print the mean and standard deviation of the accuracies\n",
        "mean_accuracy = np.mean(accuracy_list)\n",
        "std_accuracy = np.std(accuracy_list)\n",
        "print(\"\\nCross-Validation Results:\")\n",
        "print(f\"Mean Accuracy: {mean_accuracy:.4f}\")\n",
        "print(f\"Standard Deviation: {std_accuracy:.4f}\")\n",
        "\n",
        "# Plot accuracy across folds\n",
        "plt.figure(figsize=(10, 5))\n",
        "plt.plot(range(1, n_splits + 1), accuracy_list, marker='o')\n",
        "plt.title('Validation Accuracy for Each Fold')\n",
        "plt.xlabel('Fold')\n",
        "plt.ylabel('Accuracy')\n",
        "plt.grid()\n",
        "plt.show()\n"
      ]
    },
    {
      "cell_type": "code",
      "execution_count": 15,
      "metadata": {
        "id": "mpcKFbk1R3Ur",
        "outputId": "c205a8bf-93ed-4877-a0ee-860c0db0fc21",
        "colab": {
          "base_uri": "https://localhost:8080/",
          "height": 355
        }
      },
      "outputs": [
        {
          "output_type": "display_data",
          "data": {
            "text/plain": [
              "<Figure size 1500x200 with 1 Axes>"
            ],
            "image/png": "[encoded data removed]"
          },
          "metadata": {}
        },
        {
          "output_type": "display_data",
          "data": {
            "text/plain": [
              "<Figure size 1500x200 with 1 Axes>"
            ],
            "image/png": "[encoded data removed]"
          },
          "metadata": {}
        }
      ],
      "source": [
        "# Plot training and validation loss\n",
        "plt.figure(figsize=(15, 2))\n",
        "plt.plot(history['loss'], label='Training loss', alpha=.8)\n",
        "plt.plot(history['val_loss'], label='Validation loss', alpha=.8)\n",
        "plt.title('Loss')\n",
        "plt.legend()\n",
        "plt.grid(alpha=.3)\n",
        "\n",
        "# Plot training and validation accuracy\n",
        "plt.figure(figsize=(15, 2))\n",
        "plt.plot(history['accuracy'], label='Training accuracy', alpha=.8)\n",
        "plt.plot(history['val_accuracy'], label='Validation accuracy', alpha=.8)\n",
        "plt.title('Accuracy')\n",
        "plt.legend()\n",
        "plt.grid(alpha=.3)\n",
        "plt.show()\n",
        "\n",
        "model.save('weights.keras')\n",
        "del model"
      ]
    },
    {
      "cell_type": "code",
      "execution_count": 16,
      "metadata": {
        "id": "lutwAbLOTOtZ",
        "outputId": "667d9928-0a7a-4b45-8cf5-7d5ff7c57226",
        "colab": {
          "base_uri": "https://localhost:8080/"
        }
      },
      "outputs": [
        {
          "output_type": "stream",
          "name": "stdout",
          "text": [
            "Overwriting model.py\n"
          ]
        }
      ],
      "source": [
        "%%writefile model.py\n",
        "import numpy as np\n",
        "\n",
        "import tensorflow as tf\n",
        "from tensorflow import keras as tfk\n",
        "from tensorflow.keras import layers as tfkl\n",
        "\n",
        "\n",
        "class Model:\n",
        "    def __init__(self):\n",
        "        \"\"\"\n",
        "        Initialize the internal state of the model. Note that the __init__\n",
        "        method cannot accept any arguments.\n",
        "\n",
        "        The following is an example loading the weights of a pre-trained\n",
        "        model.\n",
        "        \"\"\"\n",
        "        self.neural_network = tfk.models.load_model('weights.keras')\n",
        "\n",
        "    def predict(self, X):\n",
        "        \"\"\"\n",
        "        Predict the labels corresponding to the input X. Note that X is a numpy\n",
        "        array of shape (n_samples, 96, 96, 3) and the output should be a numpy\n",
        "        array of shape (n_samples,). Therefore, outputs must no be one-hot\n",
        "        encoded.\n",
        "\n",
        "        The following is an example of a prediction from the pre-trained model\n",
        "        loaded in the __init__ method.\n",
        "        \"\"\"\n",
        "        preds = self.neural_network.predict(X)\n",
        "        if len(preds.shape) == 2:\n",
        "            preds = np.argmax(preds, axis=1)\n",
        "        return preds"
      ]
    },
    {
      "cell_type": "code",
      "execution_count": 17,
      "metadata": {
        "id": "cHGbeuhGTYG0",
        "outputId": "07a8143c-c7ca-4b4a-ac16-7ca565a8212e",
        "colab": {
          "base_uri": "https://localhost:8080/",
          "height": 53
        }
      },
      "outputs": [
        {
          "output_type": "stream",
          "name": "stdout",
          "text": [
            "  adding: model.py (deflated 56%)\n",
            "  adding: weights.keras (deflated 15%)\n"
          ]
        },
        {
          "output_type": "display_data",
          "data": {
            "text/plain": [
              "<IPython.core.display.Javascript object>"
            ],
            "application/javascript": [
              "\n",
              "    async function download(id, filename, size) {\n",
              "      if (!google.colab.kernel.accessAllowed) {\n",
              "        return;\n",
              "      }\n",
              "      const div = document.createElement('div');\n",
              "      const label = document.createElement('label');\n",
              "      label.textContent = `Downloading \"${filename}\": `;\n",
              "      div.appendChild(label);\n",
              "      const progress = document.createElement('progress');\n",
              "      progress.max = size;\n",
              "      div.appendChild(progress);\n",
              "      document.body.appendChild(div);\n",
              "\n",
              "      const buffers = [];\n",
              "      let downloaded = 0;\n",
              "\n",
              "      const channel = await google.colab.kernel.comms.open(id);\n",
              "      // Send a message to notify the kernel that we're ready.\n",
              "      channel.send({})\n",
              "\n",
              "      for await (const message of channel.messages) {\n",
              "        // Send a message to notify the kernel that we're ready.\n",
              "        channel.send({})\n",
              "        if (message.buffers) {\n",
              "          for (const buffer of message.buffers) {\n",
              "            buffers.push(buffer);\n",
              "            downloaded += buffer.byteLength;\n",
              "            progress.value = downloaded;\n",
              "          }\n",
              "        }\n",
              "      }\n",
              "      const blob = new Blob(buffers, {type: 'application/binary'});\n",
              "      const a = document.createElement('a');\n",
              "      a.href = window.URL.createObjectURL(blob);\n",
              "      a.download = filename;\n",
              "      div.appendChild(a);\n",
              "      a.click();\n",
              "      div.remove();\n",
              "    }\n",
              "  "
            ]
          },
          "metadata": {}
        },
        {
          "output_type": "display_data",
          "data": {
            "text/plain": [
              "<IPython.core.display.Javascript object>"
            ],
            "application/javascript": [
              "download(\"download_8676ffd1-4eec-433a-9da3-9d2087cb14c9\", \"submission_241116_133648.zip\", 30170025)"
            ]
          },
          "metadata": {}
        }
      ],
      "source": [
        "from datetime import datetime\n",
        "filename = f'submission_{datetime.now().strftime(\"%y%m%d_%H%M%S\")}.zip'\n",
        "\n",
        "# Add files to the zip command if needed\n",
        "!zip {filename} model.py weights.keras\n",
        "\n",
        "from google.colab import files\n",
        "files.download(filename)"
      ]
    }
  ],
  "metadata": {
    "accelerator": "GPU",
    "colab": {
      "gpuType": "T4",
      "provenance": [],
      "include_colab_link": true
    },
    "kernelspec": {
      "display_name": "Python 3",
      "name": "python3"
    },
    "language_info": {
      "name": "python"
    }
  },
  "nbformat": 4,
  "nbformat_minor": 0
}