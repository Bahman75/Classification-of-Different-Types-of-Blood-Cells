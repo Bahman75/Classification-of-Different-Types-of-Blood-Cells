{
  "nbformat": 4,
  "nbformat_minor": 0,
  "metadata": {
    "colab": {
      "provenance": [],
      "gpuType": "T4"
    },
    "kernelspec": {
      "name": "python3",
      "display_name": "Python 3"
    },
    "language_info": {
      "name": "python"
    },
    "accelerator": "GPU"
  },
  "cells": [
    {
      "cell_type": "markdown",
      "source": [
        "# Artificial Neural Networks and Deep Learning\n",
        "\n",
        "---\n",
        "\n",
        "## Homework 1: Minimal Working Example\n",
        "\n",
        "To make your first submission, follow these steps:\n",
        "1. Create a folder named `[2024-2025] AN2DL/Homework 1` in your Google Drive.\n",
        "2. Upload the `training_set.npz` file to this folder.\n",
        "3. Upload the Jupyter notebook `Homework 1 - Minimal Working Example.ipynb`.\n",
        "4. Load and process the data.\n",
        "5. Implement and train your model.\n",
        "6. Submit the generated `.zip` file to Codabench.\n"
      ],
      "metadata": {
        "id": "nuwVgG3Vbbka"
      }
    },
    {
      "cell_type": "markdown",
      "source": [
        "## 🌐 Connect Colab to Google Drive"
      ],
      "metadata": {
        "id": "dw_-hFm6bjY6"
      }
    },
    {
      "cell_type": "code",
      "source": [
        "from google.colab import drive\n",
        "\n",
        "# Check if drive is already mounted\n",
        "import os\n",
        "if not os.path.exists('/content/drive'):\n",
        "  drive.mount('/content/drive', force_remount=True)\n",
        "else:\n",
        "  print(\"Drive already mounted.\")\n",
        "%cd /content/drive/My Drive/[2024-2025] AN2DL/Homework 1"
      ],
      "metadata": {
        "id": "y2S4GWr3Uoa8",
        "colab": {
          "base_uri": "https://localhost:8080/"
        },
        "outputId": "ae3dbabd-f4cb-4155-f69c-e511ade65d25"
      },
      "execution_count": 3,
      "outputs": [
        {
          "output_type": "stream",
          "name": "stdout",
          "text": [
            "Drive already mounted.\n",
            "/content/drive/My Drive/[2024-2025] AN2DL/Homework 1\n"
          ]
        }
      ]
    },
    {
      "cell_type": "markdown",
      "source": [
        "## ⚙️ Import Libraries"
      ],
      "metadata": {
        "id": "d7IqZP5Iblna"
      }
    },
    {
      "cell_type": "code",
      "execution_count": 4,
      "metadata": {
        "id": "CO6_Ft_8T56A"
      },
      "outputs": [],
      "source": [
        "import numpy as np\n",
        "\n",
        "import tensorflow as tf\n",
        "from tensorflow import keras as tfk\n",
        "from tensorflow.keras import layers as tfkl\n",
        "from sklearn.model_selection import train_test_split\n",
        "np.random.seed(42)\n",
        "tf.random.set_seed(42);\n",
        "import pandas as pd\n",
        "#da togliere dopo\n",
        "import random\n",
        "import matplotlib.pyplot as plt\n",
        "seed = 42"
      ]
    },
    {
      "cell_type": "markdown",
      "source": [
        "## ⏳ Load the Data"
      ],
      "metadata": {
        "id": "GN_cpHlSboXV"
      }
    },
    {
      "cell_type": "code",
      "source": [
        "import numpy as np\n",
        "\n",
        "data = np.load('training_set.npz')\n",
        "x = data['images']\n",
        "y = data['labels']   # etichette\n",
        "\n",
        "# Inspect the target\n",
        "print('Counting occurrences of target classes:')\n",
        "print(pd.DataFrame(y, columns=['digit'])['digit'].value_counts())\n",
        "\n",
        "# Normalize data to the range [0, 1]\n",
        "x = (x / 255).astype('float32')\n",
        "\n",
        "# Convert labels to categorical format using one-hot encoding\n",
        "y= tfk.utils.to_categorical(y)\n",
        "\n",
        "x_train, x_val, y_train, y_val= train_test_split(x, y, test_size=0.1, random_state=seed, stratify=y)\n",
        "# Define a mapping of labels to their corresponding digit names\n",
        "labels = {0:'Basophil', 1:'Eosinophil', 2:'Erythroblast', 3:'Immature granulocytes', 4:'Lymphocyte', 5:'Monocyte', 6:'Neutrophil', 7:'Platelet'}\n",
        "\n",
        "# Save unique labels\n",
        "unique_labels = list(labels.values())\n",
        "# Print the shapes of the loaded datasets\n",
        "print(\"Training Data Shape:\", x_train.shape)\n",
        "print(\"Training Label Shape:\", y_train.shape)\n",
        "print(\"Validation Data Shape:\", x_val.shape)\n",
        "print(\"Validation Label Shape:\", y_val.shape)\n",
        "\n"
      ],
      "metadata": {
        "id": "pLaoDaG1V1Yg",
        "colab": {
          "base_uri": "https://localhost:8080/"
        },
        "outputId": "668ede4f-7fab-4780-c1d0-08dcee39f774"
      },
      "execution_count": 5,
      "outputs": [
        {
          "output_type": "stream",
          "name": "stdout",
          "text": [
            "Counting occurrences of target classes:\n",
            "digit\n",
            "6    2530\n",
            "1    2381\n",
            "3    2226\n",
            "7    1843\n",
            "5    1393\n",
            "2    1285\n",
            "0    1052\n",
            "4    1049\n",
            "Name: count, dtype: int64\n",
            "Training Data Shape: (12383, 96, 96, 3)\n",
            "Training Label Shape: (12383, 8)\n",
            "Validation Data Shape: (1376, 96, 96, 3)\n",
            "Validation Label Shape: (1376, 8)\n"
          ]
        }
      ]
    },
    {
      "cell_type": "code",
      "source": [
        "# Compare categorical label and \"default\" label representation\n",
        "# Display the categorical label\n",
        "print('Categorical label:', y_train[0])\n",
        "# Display the equivalent numeric label\n",
        "print('\"Default\" label:', np.argmax(y_train[0]))"
      ],
      "metadata": {
        "colab": {
          "base_uri": "https://localhost:8080/"
        },
        "id": "tNxd1LqD6ujU",
        "outputId": "def134e0-c53b-4c1b-f2df-283095aee35e"
      },
      "execution_count": 6,
      "outputs": [
        {
          "output_type": "stream",
          "name": "stdout",
          "text": [
            "Categorical label: [0. 0. 0. 0. 0. 1. 0. 0.]\n",
            "\"Default\" label: 5\n"
          ]
        }
      ]
    },
    {
      "cell_type": "markdown",
      "source": [
        "## 🛠️ Train and Save the Model"
      ],
      "metadata": {
        "id": "FSliIxBvbs2Q"
      }
    },
    {
      "cell_type": "code",
      "source": [
        "# Input shape for the model\n",
        "input_shape = x_train.shape[1:]\n",
        "\n",
        "# Output shape for the model\n",
        "output_shape = y_train.shape[1]\n",
        "\n",
        "print(\"Input Shape:\", input_shape)\n",
        "print(\"Output Shape:\", output_shape)\n",
        "\n",
        "# Number of training epochs\n",
        "epochs = 50\n",
        "\n",
        "# Batch size for training\n",
        "batch_size = 64\n",
        "\n",
        "# Learning rate: step size for updating the model's weights\n",
        "learning_rate = 0.001\n",
        "\n",
        "# Print the defined parameters\n",
        "print(\"Epochs:\", epochs)\n",
        "print(\"Batch Size:\", batch_size)\n",
        "print(\"Learning Rare:\", learning_rate)\n",
        "\n"
      ],
      "metadata": {
        "id": "ox9jqYyyUJo0",
        "colab": {
          "base_uri": "https://localhost:8080/"
        },
        "outputId": "005bd547-7014-4032-c37e-183aa9c5ccb0"
      },
      "execution_count": 45,
      "outputs": [
        {
          "output_type": "stream",
          "name": "stdout",
          "text": [
            "Input Shape: (96, 96, 3)\n",
            "Output Shape: 8\n",
            "Epochs: 50\n",
            "Batch Size: 64\n",
            "Learning Rare: 0.001\n"
          ]
        }
      ]
    },
    {
      "cell_type": "code",
      "source": [
        "def residual_block(x, filters, kernel_size=3, stride=1):\n",
        "    # Salviamo la connessione shortcut\n",
        "    shortcut = x\n",
        "\n",
        "    # Prima convoluzione 1x1 (riduzione dei filtri)\n",
        "    x = tfkl.Conv2D(filters // 4, kernel_size=1, strides=stride, padding='same')(x)\n",
        "    x = tfkl.BatchNormalization()(x)\n",
        "    x = tfkl.ReLU()(x)\n",
        "\n",
        "    # Convoluzione 3x3 (filtri ridotti)\n",
        "    x = tfkl.Conv2D(filters // 4, kernel_size=kernel_size, strides=1, padding='same')(x)\n",
        "    x = tfkl.BatchNormalization()(x)\n",
        "    x = tfkl.ReLU()(x)\n",
        "\n",
        "    # Terza convoluzione 1x1 (ripristino dei filtri)\n",
        "    x = tfkl.Conv2D(filters, kernel_size=1, strides=1, padding='same')(x)\n",
        "    x = tfkl.BatchNormalization()(x)\n",
        "\n",
        "    # Se necessario, adattiamo la shortcut (convoluzione 1x1)\n",
        "    if stride != 1 or x.shape[-1] != shortcut.shape[-1]:\n",
        "        shortcut = tfkl.Conv2D(filters, kernel_size=1, strides=stride, padding='same')(shortcut)\n",
        "        shortcut = tfkl.BatchNormalization()(shortcut)\n",
        "\n",
        "    # Aggiungiamo la connessione di salto (shortcut)\n",
        "    x = tfkl.add([x, shortcut])\n",
        "    x = tfkl.ReLU()(x)\n",
        "    x = tfkl.MaxPooling2D(pool_size=2, strides=2, padding='same')(x)\n",
        "\n",
        "    return x\n"
      ],
      "metadata": {
        "id": "W1ys9WQmCP1g"
      },
      "execution_count": 46,
      "outputs": []
    },
    {
      "cell_type": "code",
      "source": [
        "# Define a sequential model for image augmentation with various transformations\n",
        "augmentation = tf.keras.Sequential([\n",
        "    tfkl.RandomFlip(\"horizontal_and_vertical\"),\n",
        "    tfkl.RandomTranslation(0.2,0.2),\n",
        "    tfkl.RandomRotation(0.2),\n",
        "], name='augmentation')\n"
      ],
      "metadata": {
        "id": "7cb5jj4FRdbW"
      },
      "execution_count": 54,
      "outputs": []
    },
    {
      "cell_type": "code",
      "source": [
        "def build_model(\n",
        "    input_shape=input_shape,\n",
        "    output_shape=output_shape,\n",
        "    learning_rate=learning_rate,\n",
        "    augumentation=None,\n",
        "    seed=seed\n",
        "):\n",
        "    tf.random.set_seed(seed)\n",
        "\n",
        "    # Build the neural network layer by layer\n",
        "    inputs = tfkl.Input(shape=input_shape, name='Input')\n",
        "\n",
        "    if(augumentation==None):\n",
        "        x = tfkl.Conv2D(64, kernel_size=7, strides=2, padding='same')(inputs)\n",
        "    else:\n",
        "        x = augumentation(inputs)\n",
        "        x = tfkl.Conv2D(64, kernel_size=7, strides=2, padding='same')(x)\n",
        "\n",
        "\n",
        "    x = tfkl.BatchNormalization()(x)\n",
        "    x = tfkl.ReLU()(x)\n",
        "\n",
        "    # Primo blocco residuale\n",
        "    x = residual_block(x, 64)\n",
        "    x = residual_block(x, 128)\n",
        "    #x= residual_block(x, 256)\n",
        "    #x= residual_block(x, 512)\n",
        "\n",
        "    # Global Average Pooling\n",
        "    x = tfkl.GlobalAveragePooling2D()(x)\n",
        "\n",
        "    # Layer fully connected (Dense) per la classificazione finale\n",
        "    x = tfkl.Dense(64, activation='relu')(x)\n",
        "    x = tfkl.Dropout(0.5)(x)  # Dropout per regularizzazione (facoltativo)\n",
        "\n",
        "    # Output layer\n",
        "    outputs = tfkl.Dense(output_shape, activation='softmax')(x)\n",
        "\n",
        "    # Connect input and output through the Model class\n",
        "    model = tfk.Model(inputs=inputs, outputs=outputs, name='CNN')\n",
        "\n",
        "    # Compile the model\n",
        "    loss = tfk.losses.CategoricalCrossentropy()\n",
        "    optimizer = tfk.optimizers.Adam(learning_rate)\n",
        "    metrics = ['accuracy']\n",
        "    model.compile(loss=loss, optimizer=optimizer, metrics=metrics)\n",
        "\n",
        "    # Return the model\n",
        "    return model\n"
      ],
      "metadata": {
        "id": "MZVqabSocU4G"
      },
      "execution_count": 51,
      "outputs": []
    },
    {
      "cell_type": "code",
      "source": [
        "    model=build_model(augumentation=augmentation)\n",
        "    # Display a summary of the model architecture\n",
        "    model.summary(expand_nested=True, show_trainable=True)\n",
        "\n",
        "    # Plot the model architecture\n",
        "   # tfk.utils.plot_model(model, expand_nested=True, show_trainable=True, show_shapes=True, dpi=70)\n"
      ],
      "metadata": {
        "colab": {
          "base_uri": "https://localhost:8080/",
          "height": 1000
        },
        "id": "e92ZrK__hX17",
        "outputId": "b47061d1-b4bc-4622-a176-f6988861cd78",
        "collapsed": true
      },
      "execution_count": 55,
      "outputs": [
        {
          "output_type": "display_data",
          "data": {
            "text/plain": [
              "\u001b[1mModel: \"CNN\"\u001b[0m\n"
            ],
            "text/html": [
              "<pre style=\"white-space:pre;overflow-x:auto;line-height:normal;font-family:Menlo,'DejaVu Sans Mono',consolas,'Courier New',monospace\"><span style=\"font-weight: bold\">Model: \"CNN\"</span>\n",
              "</pre>\n"
            ]
          },
          "metadata": {}
        },
        {
          "output_type": "display_data",
          "data": {
            "text/plain": [
              "┏━━━━━━━━━━━━━━━━━━━━━━━━┳━━━━━━━━━━━━━━━━━━━━━━┳━━━━━━━━━━━━━━┳━━━━━━━━━━━━━━━━━━━━━┳━━━━━━━━━┓\n",
              "┃\u001b[1m \u001b[0m\u001b[1mLayer (type)          \u001b[0m\u001b[1m \u001b[0m┃\u001b[1m \u001b[0m\u001b[1mOutput Shape        \u001b[0m\u001b[1m \u001b[0m┃\u001b[1m \u001b[0m\u001b[1m     Param #\u001b[0m\u001b[1m \u001b[0m┃\u001b[1m \u001b[0m\u001b[1mConnected to       \u001b[0m\u001b[1m \u001b[0m┃\u001b[1m \u001b[0m\u001b[1mTraina…\u001b[0m\u001b[1m \u001b[0m┃\n",
              "┡━━━━━━━━━━━━━━━━━━━━━━━━╇━━━━━━━━━━━━━━━━━━━━━━╇━━━━━━━━━━━━━━╇━━━━━━━━━━━━━━━━━━━━━╇━━━━━━━━━┩\n",
              "│ Input (\u001b[38;5;33mInputLayer\u001b[0m)     │ (\u001b[38;5;45mNone\u001b[0m, \u001b[38;5;34m96\u001b[0m, \u001b[38;5;34m96\u001b[0m, \u001b[38;5;34m3\u001b[0m)    │            \u001b[38;5;34m0\u001b[0m │ -                   │    \u001b[1m-\u001b[0m    │\n",
              "├────────────────────────┼──────────────────────┼──────────────┼─────────────────────┼─────────┤\n",
              "│ augmentation           │ (\u001b[38;5;45mNone\u001b[0m, \u001b[38;5;34m96\u001b[0m, \u001b[38;5;34m96\u001b[0m, \u001b[38;5;34m3\u001b[0m)    │            \u001b[38;5;34m0\u001b[0m │ Input[\u001b[38;5;34m0\u001b[0m][\u001b[38;5;34m0\u001b[0m]         │    \u001b[1m-\u001b[0m    │\n",
              "│ (\u001b[38;5;33mSequential\u001b[0m)           │                      │              │                     │         │\n",
              "├────────────────────────┼──────────────────────┼──────────────┼─────────────────────┼─────────┤\n",
              "│    └ random_flip_5     │ (\u001b[38;5;45mNone\u001b[0m, \u001b[38;5;34m96\u001b[0m, \u001b[38;5;34m96\u001b[0m, \u001b[38;5;34m3\u001b[0m)    │            \u001b[38;5;34m0\u001b[0m │ -                   │    \u001b[1m-\u001b[0m    │\n",
              "│ (\u001b[38;5;33mRandomFlip\u001b[0m)           │                      │              │                     │         │\n",
              "├────────────────────────┼──────────────────────┼──────────────┼─────────────────────┼─────────┤\n",
              "│    └                   │ (\u001b[38;5;45mNone\u001b[0m, \u001b[38;5;34m96\u001b[0m, \u001b[38;5;34m96\u001b[0m, \u001b[38;5;34m3\u001b[0m)    │            \u001b[38;5;34m0\u001b[0m │ -                   │    \u001b[1m-\u001b[0m    │\n",
              "│ random_translation_5   │                      │              │                     │         │\n",
              "│ (\u001b[38;5;33mRandomTranslation\u001b[0m)    │                      │              │                     │         │\n",
              "├────────────────────────┼──────────────────────┼──────────────┼─────────────────────┼─────────┤\n",
              "│    └ random_rotation_5 │ (\u001b[38;5;45mNone\u001b[0m, \u001b[38;5;34m96\u001b[0m, \u001b[38;5;34m96\u001b[0m, \u001b[38;5;34m3\u001b[0m)    │            \u001b[38;5;34m0\u001b[0m │ -                   │    \u001b[1m-\u001b[0m    │\n",
              "│ (\u001b[38;5;33mRandomRotation\u001b[0m)       │                      │              │                     │         │\n",
              "├────────────────────────┼──────────────────────┼──────────────┼─────────────────────┼─────────┤\n",
              "│ conv2d_124 (\u001b[38;5;33mConv2D\u001b[0m)    │ (\u001b[38;5;45mNone\u001b[0m, \u001b[38;5;34m48\u001b[0m, \u001b[38;5;34m48\u001b[0m, \u001b[38;5;34m64\u001b[0m)   │        \u001b[38;5;34m9,472\u001b[0m │ augmentation[\u001b[38;5;34m0\u001b[0m][\u001b[38;5;34m0\u001b[0m]  │    \u001b[1;38;5;34mY\u001b[0m    │\n",
              "├────────────────────────┼──────────────────────┼──────────────┼─────────────────────┼─────────┤\n",
              "│ batch_normalization_1… │ (\u001b[38;5;45mNone\u001b[0m, \u001b[38;5;34m48\u001b[0m, \u001b[38;5;34m48\u001b[0m, \u001b[38;5;34m64\u001b[0m)   │          \u001b[38;5;34m256\u001b[0m │ conv2d_124[\u001b[38;5;34m0\u001b[0m][\u001b[38;5;34m0\u001b[0m]    │    \u001b[1;38;5;34mY\u001b[0m    │\n",
              "│ (\u001b[38;5;33mBatchNormalization\u001b[0m)   │                      │              │                     │         │\n",
              "├────────────────────────┼──────────────────────┼──────────────┼─────────────────────┼─────────┤\n",
              "│ re_lu_103 (\u001b[38;5;33mReLU\u001b[0m)       │ (\u001b[38;5;45mNone\u001b[0m, \u001b[38;5;34m48\u001b[0m, \u001b[38;5;34m48\u001b[0m, \u001b[38;5;34m64\u001b[0m)   │            \u001b[38;5;34m0\u001b[0m │ batch_normalizatio… │    \u001b[1m-\u001b[0m    │\n",
              "├────────────────────────┼──────────────────────┼──────────────┼─────────────────────┼─────────┤\n",
              "│ conv2d_125 (\u001b[38;5;33mConv2D\u001b[0m)    │ (\u001b[38;5;45mNone\u001b[0m, \u001b[38;5;34m48\u001b[0m, \u001b[38;5;34m48\u001b[0m, \u001b[38;5;34m16\u001b[0m)   │        \u001b[38;5;34m1,040\u001b[0m │ re_lu_103[\u001b[38;5;34m0\u001b[0m][\u001b[38;5;34m0\u001b[0m]     │    \u001b[1;38;5;34mY\u001b[0m    │\n",
              "├────────────────────────┼──────────────────────┼──────────────┼─────────────────────┼─────────┤\n",
              "│ batch_normalization_1… │ (\u001b[38;5;45mNone\u001b[0m, \u001b[38;5;34m48\u001b[0m, \u001b[38;5;34m48\u001b[0m, \u001b[38;5;34m16\u001b[0m)   │           \u001b[38;5;34m64\u001b[0m │ conv2d_125[\u001b[38;5;34m0\u001b[0m][\u001b[38;5;34m0\u001b[0m]    │    \u001b[1;38;5;34mY\u001b[0m    │\n",
              "│ (\u001b[38;5;33mBatchNormalization\u001b[0m)   │                      │              │                     │         │\n",
              "├────────────────────────┼──────────────────────┼──────────────┼─────────────────────┼─────────┤\n",
              "│ re_lu_104 (\u001b[38;5;33mReLU\u001b[0m)       │ (\u001b[38;5;45mNone\u001b[0m, \u001b[38;5;34m48\u001b[0m, \u001b[38;5;34m48\u001b[0m, \u001b[38;5;34m16\u001b[0m)   │            \u001b[38;5;34m0\u001b[0m │ batch_normalizatio… │    \u001b[1m-\u001b[0m    │\n",
              "├────────────────────────┼──────────────────────┼──────────────┼─────────────────────┼─────────┤\n",
              "│ conv2d_126 (\u001b[38;5;33mConv2D\u001b[0m)    │ (\u001b[38;5;45mNone\u001b[0m, \u001b[38;5;34m48\u001b[0m, \u001b[38;5;34m48\u001b[0m, \u001b[38;5;34m16\u001b[0m)   │        \u001b[38;5;34m2,320\u001b[0m │ re_lu_104[\u001b[38;5;34m0\u001b[0m][\u001b[38;5;34m0\u001b[0m]     │    \u001b[1;38;5;34mY\u001b[0m    │\n",
              "├────────────────────────┼──────────────────────┼──────────────┼─────────────────────┼─────────┤\n",
              "│ batch_normalization_1… │ (\u001b[38;5;45mNone\u001b[0m, \u001b[38;5;34m48\u001b[0m, \u001b[38;5;34m48\u001b[0m, \u001b[38;5;34m16\u001b[0m)   │           \u001b[38;5;34m64\u001b[0m │ conv2d_126[\u001b[38;5;34m0\u001b[0m][\u001b[38;5;34m0\u001b[0m]    │    \u001b[1;38;5;34mY\u001b[0m    │\n",
              "│ (\u001b[38;5;33mBatchNormalization\u001b[0m)   │                      │              │                     │         │\n",
              "├────────────────────────┼──────────────────────┼──────────────┼─────────────────────┼─────────┤\n",
              "│ re_lu_105 (\u001b[38;5;33mReLU\u001b[0m)       │ (\u001b[38;5;45mNone\u001b[0m, \u001b[38;5;34m48\u001b[0m, \u001b[38;5;34m48\u001b[0m, \u001b[38;5;34m16\u001b[0m)   │            \u001b[38;5;34m0\u001b[0m │ batch_normalizatio… │    \u001b[1m-\u001b[0m    │\n",
              "├────────────────────────┼──────────────────────┼──────────────┼─────────────────────┼─────────┤\n",
              "│ conv2d_127 (\u001b[38;5;33mConv2D\u001b[0m)    │ (\u001b[38;5;45mNone\u001b[0m, \u001b[38;5;34m48\u001b[0m, \u001b[38;5;34m48\u001b[0m, \u001b[38;5;34m64\u001b[0m)   │        \u001b[38;5;34m1,088\u001b[0m │ re_lu_105[\u001b[38;5;34m0\u001b[0m][\u001b[38;5;34m0\u001b[0m]     │    \u001b[1;38;5;34mY\u001b[0m    │\n",
              "├────────────────────────┼──────────────────────┼──────────────┼─────────────────────┼─────────┤\n",
              "│ batch_normalization_1… │ (\u001b[38;5;45mNone\u001b[0m, \u001b[38;5;34m48\u001b[0m, \u001b[38;5;34m48\u001b[0m, \u001b[38;5;34m64\u001b[0m)   │          \u001b[38;5;34m256\u001b[0m │ conv2d_127[\u001b[38;5;34m0\u001b[0m][\u001b[38;5;34m0\u001b[0m]    │    \u001b[1;38;5;34mY\u001b[0m    │\n",
              "│ (\u001b[38;5;33mBatchNormalization\u001b[0m)   │                      │              │                     │         │\n",
              "├────────────────────────┼──────────────────────┼──────────────┼─────────────────────┼─────────┤\n",
              "│ add_31 (\u001b[38;5;33mAdd\u001b[0m)           │ (\u001b[38;5;45mNone\u001b[0m, \u001b[38;5;34m48\u001b[0m, \u001b[38;5;34m48\u001b[0m, \u001b[38;5;34m64\u001b[0m)   │            \u001b[38;5;34m0\u001b[0m │ batch_normalizatio… │    \u001b[1m-\u001b[0m    │\n",
              "│                        │                      │              │ re_lu_103[\u001b[38;5;34m0\u001b[0m][\u001b[38;5;34m0\u001b[0m]     │         │\n",
              "├────────────────────────┼──────────────────────┼──────────────┼─────────────────────┼─────────┤\n",
              "│ re_lu_106 (\u001b[38;5;33mReLU\u001b[0m)       │ (\u001b[38;5;45mNone\u001b[0m, \u001b[38;5;34m48\u001b[0m, \u001b[38;5;34m48\u001b[0m, \u001b[38;5;34m64\u001b[0m)   │            \u001b[38;5;34m0\u001b[0m │ add_31[\u001b[38;5;34m0\u001b[0m][\u001b[38;5;34m0\u001b[0m]        │    \u001b[1m-\u001b[0m    │\n",
              "├────────────────────────┼──────────────────────┼──────────────┼─────────────────────┼─────────┤\n",
              "│ max_pooling2d_31       │ (\u001b[38;5;45mNone\u001b[0m, \u001b[38;5;34m24\u001b[0m, \u001b[38;5;34m24\u001b[0m, \u001b[38;5;34m64\u001b[0m)   │            \u001b[38;5;34m0\u001b[0m │ re_lu_106[\u001b[38;5;34m0\u001b[0m][\u001b[38;5;34m0\u001b[0m]     │    \u001b[1m-\u001b[0m    │\n",
              "│ (\u001b[38;5;33mMaxPooling2D\u001b[0m)         │                      │              │                     │         │\n",
              "├────────────────────────┼──────────────────────┼──────────────┼─────────────────────┼─────────┤\n",
              "│ conv2d_128 (\u001b[38;5;33mConv2D\u001b[0m)    │ (\u001b[38;5;45mNone\u001b[0m, \u001b[38;5;34m24\u001b[0m, \u001b[38;5;34m24\u001b[0m, \u001b[38;5;34m32\u001b[0m)   │        \u001b[38;5;34m2,080\u001b[0m │ max_pooling2d_31[\u001b[38;5;34m0\u001b[0m… │    \u001b[1;38;5;34mY\u001b[0m    │\n",
              "├────────────────────────┼──────────────────────┼──────────────┼─────────────────────┼─────────┤\n",
              "│ batch_normalization_1… │ (\u001b[38;5;45mNone\u001b[0m, \u001b[38;5;34m24\u001b[0m, \u001b[38;5;34m24\u001b[0m, \u001b[38;5;34m32\u001b[0m)   │          \u001b[38;5;34m128\u001b[0m │ conv2d_128[\u001b[38;5;34m0\u001b[0m][\u001b[38;5;34m0\u001b[0m]    │    \u001b[1;38;5;34mY\u001b[0m    │\n",
              "│ (\u001b[38;5;33mBatchNormalization\u001b[0m)   │                      │              │                     │         │\n",
              "├────────────────────────┼──────────────────────┼──────────────┼─────────────────────┼─────────┤\n",
              "│ re_lu_107 (\u001b[38;5;33mReLU\u001b[0m)       │ (\u001b[38;5;45mNone\u001b[0m, \u001b[38;5;34m24\u001b[0m, \u001b[38;5;34m24\u001b[0m, \u001b[38;5;34m32\u001b[0m)   │            \u001b[38;5;34m0\u001b[0m │ batch_normalizatio… │    \u001b[1m-\u001b[0m    │\n",
              "├────────────────────────┼──────────────────────┼──────────────┼─────────────────────┼─────────┤\n",
              "│ conv2d_129 (\u001b[38;5;33mConv2D\u001b[0m)    │ (\u001b[38;5;45mNone\u001b[0m, \u001b[38;5;34m24\u001b[0m, \u001b[38;5;34m24\u001b[0m, \u001b[38;5;34m32\u001b[0m)   │        \u001b[38;5;34m9,248\u001b[0m │ re_lu_107[\u001b[38;5;34m0\u001b[0m][\u001b[38;5;34m0\u001b[0m]     │    \u001b[1;38;5;34mY\u001b[0m    │\n",
              "├────────────────────────┼──────────────────────┼──────────────┼─────────────────────┼─────────┤\n",
              "│ batch_normalization_1… │ (\u001b[38;5;45mNone\u001b[0m, \u001b[38;5;34m24\u001b[0m, \u001b[38;5;34m24\u001b[0m, \u001b[38;5;34m32\u001b[0m)   │          \u001b[38;5;34m128\u001b[0m │ conv2d_129[\u001b[38;5;34m0\u001b[0m][\u001b[38;5;34m0\u001b[0m]    │    \u001b[1;38;5;34mY\u001b[0m    │\n",
              "│ (\u001b[38;5;33mBatchNormalization\u001b[0m)   │                      │              │                     │         │\n",
              "├────────────────────────┼──────────────────────┼──────────────┼─────────────────────┼─────────┤\n",
              "│ re_lu_108 (\u001b[38;5;33mReLU\u001b[0m)       │ (\u001b[38;5;45mNone\u001b[0m, \u001b[38;5;34m24\u001b[0m, \u001b[38;5;34m24\u001b[0m, \u001b[38;5;34m32\u001b[0m)   │            \u001b[38;5;34m0\u001b[0m │ batch_normalizatio… │    \u001b[1m-\u001b[0m    │\n",
              "├────────────────────────┼──────────────────────┼──────────────┼─────────────────────┼─────────┤\n",
              "│ conv2d_130 (\u001b[38;5;33mConv2D\u001b[0m)    │ (\u001b[38;5;45mNone\u001b[0m, \u001b[38;5;34m24\u001b[0m, \u001b[38;5;34m24\u001b[0m, \u001b[38;5;34m128\u001b[0m)  │        \u001b[38;5;34m4,224\u001b[0m │ re_lu_108[\u001b[38;5;34m0\u001b[0m][\u001b[38;5;34m0\u001b[0m]     │    \u001b[1;38;5;34mY\u001b[0m    │\n",
              "├────────────────────────┼──────────────────────┼──────────────┼─────────────────────┼─────────┤\n",
              "│ conv2d_131 (\u001b[38;5;33mConv2D\u001b[0m)    │ (\u001b[38;5;45mNone\u001b[0m, \u001b[38;5;34m24\u001b[0m, \u001b[38;5;34m24\u001b[0m, \u001b[38;5;34m128\u001b[0m)  │        \u001b[38;5;34m8,320\u001b[0m │ max_pooling2d_31[\u001b[38;5;34m0\u001b[0m… │    \u001b[1;38;5;34mY\u001b[0m    │\n",
              "├────────────────────────┼──────────────────────┼──────────────┼─────────────────────┼─────────┤\n",
              "│ batch_normalization_1… │ (\u001b[38;5;45mNone\u001b[0m, \u001b[38;5;34m24\u001b[0m, \u001b[38;5;34m24\u001b[0m, \u001b[38;5;34m128\u001b[0m)  │          \u001b[38;5;34m512\u001b[0m │ conv2d_130[\u001b[38;5;34m0\u001b[0m][\u001b[38;5;34m0\u001b[0m]    │    \u001b[1;38;5;34mY\u001b[0m    │\n",
              "│ (\u001b[38;5;33mBatchNormalization\u001b[0m)   │                      │              │                     │         │\n",
              "├────────────────────────┼──────────────────────┼──────────────┼─────────────────────┼─────────┤\n",
              "│ batch_normalization_1… │ (\u001b[38;5;45mNone\u001b[0m, \u001b[38;5;34m24\u001b[0m, \u001b[38;5;34m24\u001b[0m, \u001b[38;5;34m128\u001b[0m)  │          \u001b[38;5;34m512\u001b[0m │ conv2d_131[\u001b[38;5;34m0\u001b[0m][\u001b[38;5;34m0\u001b[0m]    │    \u001b[1;38;5;34mY\u001b[0m    │\n",
              "│ (\u001b[38;5;33mBatchNormalization\u001b[0m)   │                      │              │                     │         │\n",
              "├────────────────────────┼──────────────────────┼──────────────┼─────────────────────┼─────────┤\n",
              "│ add_32 (\u001b[38;5;33mAdd\u001b[0m)           │ (\u001b[38;5;45mNone\u001b[0m, \u001b[38;5;34m24\u001b[0m, \u001b[38;5;34m24\u001b[0m, \u001b[38;5;34m128\u001b[0m)  │            \u001b[38;5;34m0\u001b[0m │ batch_normalizatio… │    \u001b[1m-\u001b[0m    │\n",
              "│                        │                      │              │ batch_normalizatio… │         │\n",
              "├────────────────────────┼──────────────────────┼──────────────┼─────────────────────┼─────────┤\n",
              "│ re_lu_109 (\u001b[38;5;33mReLU\u001b[0m)       │ (\u001b[38;5;45mNone\u001b[0m, \u001b[38;5;34m24\u001b[0m, \u001b[38;5;34m24\u001b[0m, \u001b[38;5;34m128\u001b[0m)  │            \u001b[38;5;34m0\u001b[0m │ add_32[\u001b[38;5;34m0\u001b[0m][\u001b[38;5;34m0\u001b[0m]        │    \u001b[1m-\u001b[0m    │\n",
              "├────────────────────────┼──────────────────────┼──────────────┼─────────────────────┼─────────┤\n",
              "│ max_pooling2d_32       │ (\u001b[38;5;45mNone\u001b[0m, \u001b[38;5;34m12\u001b[0m, \u001b[38;5;34m12\u001b[0m, \u001b[38;5;34m128\u001b[0m)  │            \u001b[38;5;34m0\u001b[0m │ re_lu_109[\u001b[38;5;34m0\u001b[0m][\u001b[38;5;34m0\u001b[0m]     │    \u001b[1m-\u001b[0m    │\n",
              "│ (\u001b[38;5;33mMaxPooling2D\u001b[0m)         │                      │              │                     │         │\n",
              "├────────────────────────┼──────────────────────┼──────────────┼─────────────────────┼─────────┤\n",
              "│ global_average_poolin… │ (\u001b[38;5;45mNone\u001b[0m, \u001b[38;5;34m128\u001b[0m)          │            \u001b[38;5;34m0\u001b[0m │ max_pooling2d_32[\u001b[38;5;34m0\u001b[0m… │    \u001b[1m-\u001b[0m    │\n",
              "│ (\u001b[38;5;33mGlobalAveragePooling…\u001b[0m │                      │              │                     │         │\n",
              "├────────────────────────┼──────────────────────┼──────────────┼─────────────────────┼─────────┤\n",
              "│ dense_20 (\u001b[38;5;33mDense\u001b[0m)       │ (\u001b[38;5;45mNone\u001b[0m, \u001b[38;5;34m64\u001b[0m)           │        \u001b[38;5;34m8,256\u001b[0m │ global_average_poo… │    \u001b[1;38;5;34mY\u001b[0m    │\n",
              "├────────────────────────┼──────────────────────┼──────────────┼─────────────────────┼─────────┤\n",
              "│ dropout_10 (\u001b[38;5;33mDropout\u001b[0m)   │ (\u001b[38;5;45mNone\u001b[0m, \u001b[38;5;34m64\u001b[0m)           │            \u001b[38;5;34m0\u001b[0m │ dense_20[\u001b[38;5;34m0\u001b[0m][\u001b[38;5;34m0\u001b[0m]      │    \u001b[1m-\u001b[0m    │\n",
              "├────────────────────────┼──────────────────────┼──────────────┼─────────────────────┼─────────┤\n",
              "│ dense_21 (\u001b[38;5;33mDense\u001b[0m)       │ (\u001b[38;5;45mNone\u001b[0m, \u001b[38;5;34m8\u001b[0m)            │          \u001b[38;5;34m520\u001b[0m │ dropout_10[\u001b[38;5;34m0\u001b[0m][\u001b[38;5;34m0\u001b[0m]    │    \u001b[1;38;5;34mY\u001b[0m    │\n",
              "└────────────────────────┴──────────────────────┴──────────────┴─────────────────────┴─────────┘\n"
            ],
            "text/html": [
              "<pre style=\"white-space:pre;overflow-x:auto;line-height:normal;font-family:Menlo,'DejaVu Sans Mono',consolas,'Courier New',monospace\">┏━━━━━━━━━━━━━━━━━━━━━━━━┳━━━━━━━━━━━━━━━━━━━━━━┳━━━━━━━━━━━━━━┳━━━━━━━━━━━━━━━━━━━━━┳━━━━━━━━━┓\n",
              "┃<span style=\"font-weight: bold\"> Layer (type)           </span>┃<span style=\"font-weight: bold\"> Output Shape         </span>┃<span style=\"font-weight: bold\">      Param # </span>┃<span style=\"font-weight: bold\"> Connected to        </span>┃<span style=\"font-weight: bold\"> Traina… </span>┃\n",
              "┡━━━━━━━━━━━━━━━━━━━━━━━━╇━━━━━━━━━━━━━━━━━━━━━━╇━━━━━━━━━━━━━━╇━━━━━━━━━━━━━━━━━━━━━╇━━━━━━━━━┩\n",
              "│ Input (<span style=\"color: #0087ff; text-decoration-color: #0087ff\">InputLayer</span>)     │ (<span style=\"color: #00d7ff; text-decoration-color: #00d7ff\">None</span>, <span style=\"color: #00af00; text-decoration-color: #00af00\">96</span>, <span style=\"color: #00af00; text-decoration-color: #00af00\">96</span>, <span style=\"color: #00af00; text-decoration-color: #00af00\">3</span>)    │            <span style=\"color: #00af00; text-decoration-color: #00af00\">0</span> │ -                   │    <span style=\"font-weight: bold\">-</span>    │\n",
              "├────────────────────────┼──────────────────────┼──────────────┼─────────────────────┼─────────┤\n",
              "│ augmentation           │ (<span style=\"color: #00d7ff; text-decoration-color: #00d7ff\">None</span>, <span style=\"color: #00af00; text-decoration-color: #00af00\">96</span>, <span style=\"color: #00af00; text-decoration-color: #00af00\">96</span>, <span style=\"color: #00af00; text-decoration-color: #00af00\">3</span>)    │            <span style=\"color: #00af00; text-decoration-color: #00af00\">0</span> │ Input[<span style=\"color: #00af00; text-decoration-color: #00af00\">0</span>][<span style=\"color: #00af00; text-decoration-color: #00af00\">0</span>]         │    <span style=\"font-weight: bold\">-</span>    │\n",
              "│ (<span style=\"color: #0087ff; text-decoration-color: #0087ff\">Sequential</span>)           │                      │              │                     │         │\n",
              "├────────────────────────┼──────────────────────┼──────────────┼─────────────────────┼─────────┤\n",
              "│    └ random_flip_5     │ (<span style=\"color: #00d7ff; text-decoration-color: #00d7ff\">None</span>, <span style=\"color: #00af00; text-decoration-color: #00af00\">96</span>, <span style=\"color: #00af00; text-decoration-color: #00af00\">96</span>, <span style=\"color: #00af00; text-decoration-color: #00af00\">3</span>)    │            <span style=\"color: #00af00; text-decoration-color: #00af00\">0</span> │ -                   │    <span style=\"font-weight: bold\">-</span>    │\n",
              "│ (<span style=\"color: #0087ff; text-decoration-color: #0087ff\">RandomFlip</span>)           │                      │              │                     │         │\n",
              "├────────────────────────┼──────────────────────┼──────────────┼─────────────────────┼─────────┤\n",
              "│    └                   │ (<span style=\"color: #00d7ff; text-decoration-color: #00d7ff\">None</span>, <span style=\"color: #00af00; text-decoration-color: #00af00\">96</span>, <span style=\"color: #00af00; text-decoration-color: #00af00\">96</span>, <span style=\"color: #00af00; text-decoration-color: #00af00\">3</span>)    │            <span style=\"color: #00af00; text-decoration-color: #00af00\">0</span> │ -                   │    <span style=\"font-weight: bold\">-</span>    │\n",
              "│ random_translation_5   │                      │              │                     │         │\n",
              "│ (<span style=\"color: #0087ff; text-decoration-color: #0087ff\">RandomTranslation</span>)    │                      │              │                     │         │\n",
              "├────────────────────────┼──────────────────────┼──────────────┼─────────────────────┼─────────┤\n",
              "│    └ random_rotation_5 │ (<span style=\"color: #00d7ff; text-decoration-color: #00d7ff\">None</span>, <span style=\"color: #00af00; text-decoration-color: #00af00\">96</span>, <span style=\"color: #00af00; text-decoration-color: #00af00\">96</span>, <span style=\"color: #00af00; text-decoration-color: #00af00\">3</span>)    │            <span style=\"color: #00af00; text-decoration-color: #00af00\">0</span> │ -                   │    <span style=\"font-weight: bold\">-</span>    │\n",
              "│ (<span style=\"color: #0087ff; text-decoration-color: #0087ff\">RandomRotation</span>)       │                      │              │                     │         │\n",
              "├────────────────────────┼──────────────────────┼──────────────┼─────────────────────┼─────────┤\n",
              "│ conv2d_124 (<span style=\"color: #0087ff; text-decoration-color: #0087ff\">Conv2D</span>)    │ (<span style=\"color: #00d7ff; text-decoration-color: #00d7ff\">None</span>, <span style=\"color: #00af00; text-decoration-color: #00af00\">48</span>, <span style=\"color: #00af00; text-decoration-color: #00af00\">48</span>, <span style=\"color: #00af00; text-decoration-color: #00af00\">64</span>)   │        <span style=\"color: #00af00; text-decoration-color: #00af00\">9,472</span> │ augmentation[<span style=\"color: #00af00; text-decoration-color: #00af00\">0</span>][<span style=\"color: #00af00; text-decoration-color: #00af00\">0</span>]  │    <span style=\"color: #00af00; text-decoration-color: #00af00; font-weight: bold\">Y</span>    │\n",
              "├────────────────────────┼──────────────────────┼──────────────┼─────────────────────┼─────────┤\n",
              "│ batch_normalization_1… │ (<span style=\"color: #00d7ff; text-decoration-color: #00d7ff\">None</span>, <span style=\"color: #00af00; text-decoration-color: #00af00\">48</span>, <span style=\"color: #00af00; text-decoration-color: #00af00\">48</span>, <span style=\"color: #00af00; text-decoration-color: #00af00\">64</span>)   │          <span style=\"color: #00af00; text-decoration-color: #00af00\">256</span> │ conv2d_124[<span style=\"color: #00af00; text-decoration-color: #00af00\">0</span>][<span style=\"color: #00af00; text-decoration-color: #00af00\">0</span>]    │    <span style=\"color: #00af00; text-decoration-color: #00af00; font-weight: bold\">Y</span>    │\n",
              "│ (<span style=\"color: #0087ff; text-decoration-color: #0087ff\">BatchNormalization</span>)   │                      │              │                     │         │\n",
              "├────────────────────────┼──────────────────────┼──────────────┼─────────────────────┼─────────┤\n",
              "│ re_lu_103 (<span style=\"color: #0087ff; text-decoration-color: #0087ff\">ReLU</span>)       │ (<span style=\"color: #00d7ff; text-decoration-color: #00d7ff\">None</span>, <span style=\"color: #00af00; text-decoration-color: #00af00\">48</span>, <span style=\"color: #00af00; text-decoration-color: #00af00\">48</span>, <span style=\"color: #00af00; text-decoration-color: #00af00\">64</span>)   │            <span style=\"color: #00af00; text-decoration-color: #00af00\">0</span> │ batch_normalizatio… │    <span style=\"font-weight: bold\">-</span>    │\n",
              "├────────────────────────┼──────────────────────┼──────────────┼─────────────────────┼─────────┤\n",
              "│ conv2d_125 (<span style=\"color: #0087ff; text-decoration-color: #0087ff\">Conv2D</span>)    │ (<span style=\"color: #00d7ff; text-decoration-color: #00d7ff\">None</span>, <span style=\"color: #00af00; text-decoration-color: #00af00\">48</span>, <span style=\"color: #00af00; text-decoration-color: #00af00\">48</span>, <span style=\"color: #00af00; text-decoration-color: #00af00\">16</span>)   │        <span style=\"color: #00af00; text-decoration-color: #00af00\">1,040</span> │ re_lu_103[<span style=\"color: #00af00; text-decoration-color: #00af00\">0</span>][<span style=\"color: #00af00; text-decoration-color: #00af00\">0</span>]     │    <span style=\"color: #00af00; text-decoration-color: #00af00; font-weight: bold\">Y</span>    │\n",
              "├────────────────────────┼──────────────────────┼──────────────┼─────────────────────┼─────────┤\n",
              "│ batch_normalization_1… │ (<span style=\"color: #00d7ff; text-decoration-color: #00d7ff\">None</span>, <span style=\"color: #00af00; text-decoration-color: #00af00\">48</span>, <span style=\"color: #00af00; text-decoration-color: #00af00\">48</span>, <span style=\"color: #00af00; text-decoration-color: #00af00\">16</span>)   │           <span style=\"color: #00af00; text-decoration-color: #00af00\">64</span> │ conv2d_125[<span style=\"color: #00af00; text-decoration-color: #00af00\">0</span>][<span style=\"color: #00af00; text-decoration-color: #00af00\">0</span>]    │    <span style=\"color: #00af00; text-decoration-color: #00af00; font-weight: bold\">Y</span>    │\n",
              "│ (<span style=\"color: #0087ff; text-decoration-color: #0087ff\">BatchNormalization</span>)   │                      │              │                     │         │\n",
              "├────────────────────────┼──────────────────────┼──────────────┼─────────────────────┼─────────┤\n",
              "│ re_lu_104 (<span style=\"color: #0087ff; text-decoration-color: #0087ff\">ReLU</span>)       │ (<span style=\"color: #00d7ff; text-decoration-color: #00d7ff\">None</span>, <span style=\"color: #00af00; text-decoration-color: #00af00\">48</span>, <span style=\"color: #00af00; text-decoration-color: #00af00\">48</span>, <span style=\"color: #00af00; text-decoration-color: #00af00\">16</span>)   │            <span style=\"color: #00af00; text-decoration-color: #00af00\">0</span> │ batch_normalizatio… │    <span style=\"font-weight: bold\">-</span>    │\n",
              "├────────────────────────┼──────────────────────┼──────────────┼─────────────────────┼─────────┤\n",
              "│ conv2d_126 (<span style=\"color: #0087ff; text-decoration-color: #0087ff\">Conv2D</span>)    │ (<span style=\"color: #00d7ff; text-decoration-color: #00d7ff\">None</span>, <span style=\"color: #00af00; text-decoration-color: #00af00\">48</span>, <span style=\"color: #00af00; text-decoration-color: #00af00\">48</span>, <span style=\"color: #00af00; text-decoration-color: #00af00\">16</span>)   │        <span style=\"color: #00af00; text-decoration-color: #00af00\">2,320</span> │ re_lu_104[<span style=\"color: #00af00; text-decoration-color: #00af00\">0</span>][<span style=\"color: #00af00; text-decoration-color: #00af00\">0</span>]     │    <span style=\"color: #00af00; text-decoration-color: #00af00; font-weight: bold\">Y</span>    │\n",
              "├────────────────────────┼──────────────────────┼──────────────┼─────────────────────┼─────────┤\n",
              "│ batch_normalization_1… │ (<span style=\"color: #00d7ff; text-decoration-color: #00d7ff\">None</span>, <span style=\"color: #00af00; text-decoration-color: #00af00\">48</span>, <span style=\"color: #00af00; text-decoration-color: #00af00\">48</span>, <span style=\"color: #00af00; text-decoration-color: #00af00\">16</span>)   │           <span style=\"color: #00af00; text-decoration-color: #00af00\">64</span> │ conv2d_126[<span style=\"color: #00af00; text-decoration-color: #00af00\">0</span>][<span style=\"color: #00af00; text-decoration-color: #00af00\">0</span>]    │    <span style=\"color: #00af00; text-decoration-color: #00af00; font-weight: bold\">Y</span>    │\n",
              "│ (<span style=\"color: #0087ff; text-decoration-color: #0087ff\">BatchNormalization</span>)   │                      │              │                     │         │\n",
              "├────────────────────────┼──────────────────────┼──────────────┼─────────────────────┼─────────┤\n",
              "│ re_lu_105 (<span style=\"color: #0087ff; text-decoration-color: #0087ff\">ReLU</span>)       │ (<span style=\"color: #00d7ff; text-decoration-color: #00d7ff\">None</span>, <span style=\"color: #00af00; text-decoration-color: #00af00\">48</span>, <span style=\"color: #00af00; text-decoration-color: #00af00\">48</span>, <span style=\"color: #00af00; text-decoration-color: #00af00\">16</span>)   │            <span style=\"color: #00af00; text-decoration-color: #00af00\">0</span> │ batch_normalizatio… │    <span style=\"font-weight: bold\">-</span>    │\n",
              "├────────────────────────┼──────────────────────┼──────────────┼─────────────────────┼─────────┤\n",
              "│ conv2d_127 (<span style=\"color: #0087ff; text-decoration-color: #0087ff\">Conv2D</span>)    │ (<span style=\"color: #00d7ff; text-decoration-color: #00d7ff\">None</span>, <span style=\"color: #00af00; text-decoration-color: #00af00\">48</span>, <span style=\"color: #00af00; text-decoration-color: #00af00\">48</span>, <span style=\"color: #00af00; text-decoration-color: #00af00\">64</span>)   │        <span style=\"color: #00af00; text-decoration-color: #00af00\">1,088</span> │ re_lu_105[<span style=\"color: #00af00; text-decoration-color: #00af00\">0</span>][<span style=\"color: #00af00; text-decoration-color: #00af00\">0</span>]     │    <span style=\"color: #00af00; text-decoration-color: #00af00; font-weight: bold\">Y</span>    │\n",
              "├────────────────────────┼──────────────────────┼──────────────┼─────────────────────┼─────────┤\n",
              "│ batch_normalization_1… │ (<span style=\"color: #00d7ff; text-decoration-color: #00d7ff\">None</span>, <span style=\"color: #00af00; text-decoration-color: #00af00\">48</span>, <span style=\"color: #00af00; text-decoration-color: #00af00\">48</span>, <span style=\"color: #00af00; text-decoration-color: #00af00\">64</span>)   │          <span style=\"color: #00af00; text-decoration-color: #00af00\">256</span> │ conv2d_127[<span style=\"color: #00af00; text-decoration-color: #00af00\">0</span>][<span style=\"color: #00af00; text-decoration-color: #00af00\">0</span>]    │    <span style=\"color: #00af00; text-decoration-color: #00af00; font-weight: bold\">Y</span>    │\n",
              "│ (<span style=\"color: #0087ff; text-decoration-color: #0087ff\">BatchNormalization</span>)   │                      │              │                     │         │\n",
              "├────────────────────────┼──────────────────────┼──────────────┼─────────────────────┼─────────┤\n",
              "│ add_31 (<span style=\"color: #0087ff; text-decoration-color: #0087ff\">Add</span>)           │ (<span style=\"color: #00d7ff; text-decoration-color: #00d7ff\">None</span>, <span style=\"color: #00af00; text-decoration-color: #00af00\">48</span>, <span style=\"color: #00af00; text-decoration-color: #00af00\">48</span>, <span style=\"color: #00af00; text-decoration-color: #00af00\">64</span>)   │            <span style=\"color: #00af00; text-decoration-color: #00af00\">0</span> │ batch_normalizatio… │    <span style=\"font-weight: bold\">-</span>    │\n",
              "│                        │                      │              │ re_lu_103[<span style=\"color: #00af00; text-decoration-color: #00af00\">0</span>][<span style=\"color: #00af00; text-decoration-color: #00af00\">0</span>]     │         │\n",
              "├────────────────────────┼──────────────────────┼──────────────┼─────────────────────┼─────────┤\n",
              "│ re_lu_106 (<span style=\"color: #0087ff; text-decoration-color: #0087ff\">ReLU</span>)       │ (<span style=\"color: #00d7ff; text-decoration-color: #00d7ff\">None</span>, <span style=\"color: #00af00; text-decoration-color: #00af00\">48</span>, <span style=\"color: #00af00; text-decoration-color: #00af00\">48</span>, <span style=\"color: #00af00; text-decoration-color: #00af00\">64</span>)   │            <span style=\"color: #00af00; text-decoration-color: #00af00\">0</span> │ add_31[<span style=\"color: #00af00; text-decoration-color: #00af00\">0</span>][<span style=\"color: #00af00; text-decoration-color: #00af00\">0</span>]        │    <span style=\"font-weight: bold\">-</span>    │\n",
              "├────────────────────────┼──────────────────────┼──────────────┼─────────────────────┼─────────┤\n",
              "│ max_pooling2d_31       │ (<span style=\"color: #00d7ff; text-decoration-color: #00d7ff\">None</span>, <span style=\"color: #00af00; text-decoration-color: #00af00\">24</span>, <span style=\"color: #00af00; text-decoration-color: #00af00\">24</span>, <span style=\"color: #00af00; text-decoration-color: #00af00\">64</span>)   │            <span style=\"color: #00af00; text-decoration-color: #00af00\">0</span> │ re_lu_106[<span style=\"color: #00af00; text-decoration-color: #00af00\">0</span>][<span style=\"color: #00af00; text-decoration-color: #00af00\">0</span>]     │    <span style=\"font-weight: bold\">-</span>    │\n",
              "│ (<span style=\"color: #0087ff; text-decoration-color: #0087ff\">MaxPooling2D</span>)         │                      │              │                     │         │\n",
              "├────────────────────────┼──────────────────────┼──────────────┼─────────────────────┼─────────┤\n",
              "│ conv2d_128 (<span style=\"color: #0087ff; text-decoration-color: #0087ff\">Conv2D</span>)    │ (<span style=\"color: #00d7ff; text-decoration-color: #00d7ff\">None</span>, <span style=\"color: #00af00; text-decoration-color: #00af00\">24</span>, <span style=\"color: #00af00; text-decoration-color: #00af00\">24</span>, <span style=\"color: #00af00; text-decoration-color: #00af00\">32</span>)   │        <span style=\"color: #00af00; text-decoration-color: #00af00\">2,080</span> │ max_pooling2d_31[<span style=\"color: #00af00; text-decoration-color: #00af00\">0</span>… │    <span style=\"color: #00af00; text-decoration-color: #00af00; font-weight: bold\">Y</span>    │\n",
              "├────────────────────────┼──────────────────────┼──────────────┼─────────────────────┼─────────┤\n",
              "│ batch_normalization_1… │ (<span style=\"color: #00d7ff; text-decoration-color: #00d7ff\">None</span>, <span style=\"color: #00af00; text-decoration-color: #00af00\">24</span>, <span style=\"color: #00af00; text-decoration-color: #00af00\">24</span>, <span style=\"color: #00af00; text-decoration-color: #00af00\">32</span>)   │          <span style=\"color: #00af00; text-decoration-color: #00af00\">128</span> │ conv2d_128[<span style=\"color: #00af00; text-decoration-color: #00af00\">0</span>][<span style=\"color: #00af00; text-decoration-color: #00af00\">0</span>]    │    <span style=\"color: #00af00; text-decoration-color: #00af00; font-weight: bold\">Y</span>    │\n",
              "│ (<span style=\"color: #0087ff; text-decoration-color: #0087ff\">BatchNormalization</span>)   │                      │              │                     │         │\n",
              "├────────────────────────┼──────────────────────┼──────────────┼─────────────────────┼─────────┤\n",
              "│ re_lu_107 (<span style=\"color: #0087ff; text-decoration-color: #0087ff\">ReLU</span>)       │ (<span style=\"color: #00d7ff; text-decoration-color: #00d7ff\">None</span>, <span style=\"color: #00af00; text-decoration-color: #00af00\">24</span>, <span style=\"color: #00af00; text-decoration-color: #00af00\">24</span>, <span style=\"color: #00af00; text-decoration-color: #00af00\">32</span>)   │            <span style=\"color: #00af00; text-decoration-color: #00af00\">0</span> │ batch_normalizatio… │    <span style=\"font-weight: bold\">-</span>    │\n",
              "├────────────────────────┼──────────────────────┼──────────────┼─────────────────────┼─────────┤\n",
              "│ conv2d_129 (<span style=\"color: #0087ff; text-decoration-color: #0087ff\">Conv2D</span>)    │ (<span style=\"color: #00d7ff; text-decoration-color: #00d7ff\">None</span>, <span style=\"color: #00af00; text-decoration-color: #00af00\">24</span>, <span style=\"color: #00af00; text-decoration-color: #00af00\">24</span>, <span style=\"color: #00af00; text-decoration-color: #00af00\">32</span>)   │        <span style=\"color: #00af00; text-decoration-color: #00af00\">9,248</span> │ re_lu_107[<span style=\"color: #00af00; text-decoration-color: #00af00\">0</span>][<span style=\"color: #00af00; text-decoration-color: #00af00\">0</span>]     │    <span style=\"color: #00af00; text-decoration-color: #00af00; font-weight: bold\">Y</span>    │\n",
              "├────────────────────────┼──────────────────────┼──────────────┼─────────────────────┼─────────┤\n",
              "│ batch_normalization_1… │ (<span style=\"color: #00d7ff; text-decoration-color: #00d7ff\">None</span>, <span style=\"color: #00af00; text-decoration-color: #00af00\">24</span>, <span style=\"color: #00af00; text-decoration-color: #00af00\">24</span>, <span style=\"color: #00af00; text-decoration-color: #00af00\">32</span>)   │          <span style=\"color: #00af00; text-decoration-color: #00af00\">128</span> │ conv2d_129[<span style=\"color: #00af00; text-decoration-color: #00af00\">0</span>][<span style=\"color: #00af00; text-decoration-color: #00af00\">0</span>]    │    <span style=\"color: #00af00; text-decoration-color: #00af00; font-weight: bold\">Y</span>    │\n",
              "│ (<span style=\"color: #0087ff; text-decoration-color: #0087ff\">BatchNormalization</span>)   │                      │              │                     │         │\n",
              "├────────────────────────┼──────────────────────┼──────────────┼─────────────────────┼─────────┤\n",
              "│ re_lu_108 (<span style=\"color: #0087ff; text-decoration-color: #0087ff\">ReLU</span>)       │ (<span style=\"color: #00d7ff; text-decoration-color: #00d7ff\">None</span>, <span style=\"color: #00af00; text-decoration-color: #00af00\">24</span>, <span style=\"color: #00af00; text-decoration-color: #00af00\">24</span>, <span style=\"color: #00af00; text-decoration-color: #00af00\">32</span>)   │            <span style=\"color: #00af00; text-decoration-color: #00af00\">0</span> │ batch_normalizatio… │    <span style=\"font-weight: bold\">-</span>    │\n",
              "├────────────────────────┼──────────────────────┼──────────────┼─────────────────────┼─────────┤\n",
              "│ conv2d_130 (<span style=\"color: #0087ff; text-decoration-color: #0087ff\">Conv2D</span>)    │ (<span style=\"color: #00d7ff; text-decoration-color: #00d7ff\">None</span>, <span style=\"color: #00af00; text-decoration-color: #00af00\">24</span>, <span style=\"color: #00af00; text-decoration-color: #00af00\">24</span>, <span style=\"color: #00af00; text-decoration-color: #00af00\">128</span>)  │        <span style=\"color: #00af00; text-decoration-color: #00af00\">4,224</span> │ re_lu_108[<span style=\"color: #00af00; text-decoration-color: #00af00\">0</span>][<span style=\"color: #00af00; text-decoration-color: #00af00\">0</span>]     │    <span style=\"color: #00af00; text-decoration-color: #00af00; font-weight: bold\">Y</span>    │\n",
              "├────────────────────────┼──────────────────────┼──────────────┼─────────────────────┼─────────┤\n",
              "│ conv2d_131 (<span style=\"color: #0087ff; text-decoration-color: #0087ff\">Conv2D</span>)    │ (<span style=\"color: #00d7ff; text-decoration-color: #00d7ff\">None</span>, <span style=\"color: #00af00; text-decoration-color: #00af00\">24</span>, <span style=\"color: #00af00; text-decoration-color: #00af00\">24</span>, <span style=\"color: #00af00; text-decoration-color: #00af00\">128</span>)  │        <span style=\"color: #00af00; text-decoration-color: #00af00\">8,320</span> │ max_pooling2d_31[<span style=\"color: #00af00; text-decoration-color: #00af00\">0</span>… │    <span style=\"color: #00af00; text-decoration-color: #00af00; font-weight: bold\">Y</span>    │\n",
              "├────────────────────────┼──────────────────────┼──────────────┼─────────────────────┼─────────┤\n",
              "│ batch_normalization_1… │ (<span style=\"color: #00d7ff; text-decoration-color: #00d7ff\">None</span>, <span style=\"color: #00af00; text-decoration-color: #00af00\">24</span>, <span style=\"color: #00af00; text-decoration-color: #00af00\">24</span>, <span style=\"color: #00af00; text-decoration-color: #00af00\">128</span>)  │          <span style=\"color: #00af00; text-decoration-color: #00af00\">512</span> │ conv2d_130[<span style=\"color: #00af00; text-decoration-color: #00af00\">0</span>][<span style=\"color: #00af00; text-decoration-color: #00af00\">0</span>]    │    <span style=\"color: #00af00; text-decoration-color: #00af00; font-weight: bold\">Y</span>    │\n",
              "│ (<span style=\"color: #0087ff; text-decoration-color: #0087ff\">BatchNormalization</span>)   │                      │              │                     │         │\n",
              "├────────────────────────┼──────────────────────┼──────────────┼─────────────────────┼─────────┤\n",
              "│ batch_normalization_1… │ (<span style=\"color: #00d7ff; text-decoration-color: #00d7ff\">None</span>, <span style=\"color: #00af00; text-decoration-color: #00af00\">24</span>, <span style=\"color: #00af00; text-decoration-color: #00af00\">24</span>, <span style=\"color: #00af00; text-decoration-color: #00af00\">128</span>)  │          <span style=\"color: #00af00; text-decoration-color: #00af00\">512</span> │ conv2d_131[<span style=\"color: #00af00; text-decoration-color: #00af00\">0</span>][<span style=\"color: #00af00; text-decoration-color: #00af00\">0</span>]    │    <span style=\"color: #00af00; text-decoration-color: #00af00; font-weight: bold\">Y</span>    │\n",
              "│ (<span style=\"color: #0087ff; text-decoration-color: #0087ff\">BatchNormalization</span>)   │                      │              │                     │         │\n",
              "├────────────────────────┼──────────────────────┼──────────────┼─────────────────────┼─────────┤\n",
              "│ add_32 (<span style=\"color: #0087ff; text-decoration-color: #0087ff\">Add</span>)           │ (<span style=\"color: #00d7ff; text-decoration-color: #00d7ff\">None</span>, <span style=\"color: #00af00; text-decoration-color: #00af00\">24</span>, <span style=\"color: #00af00; text-decoration-color: #00af00\">24</span>, <span style=\"color: #00af00; text-decoration-color: #00af00\">128</span>)  │            <span style=\"color: #00af00; text-decoration-color: #00af00\">0</span> │ batch_normalizatio… │    <span style=\"font-weight: bold\">-</span>    │\n",
              "│                        │                      │              │ batch_normalizatio… │         │\n",
              "├────────────────────────┼──────────────────────┼──────────────┼─────────────────────┼─────────┤\n",
              "│ re_lu_109 (<span style=\"color: #0087ff; text-decoration-color: #0087ff\">ReLU</span>)       │ (<span style=\"color: #00d7ff; text-decoration-color: #00d7ff\">None</span>, <span style=\"color: #00af00; text-decoration-color: #00af00\">24</span>, <span style=\"color: #00af00; text-decoration-color: #00af00\">24</span>, <span style=\"color: #00af00; text-decoration-color: #00af00\">128</span>)  │            <span style=\"color: #00af00; text-decoration-color: #00af00\">0</span> │ add_32[<span style=\"color: #00af00; text-decoration-color: #00af00\">0</span>][<span style=\"color: #00af00; text-decoration-color: #00af00\">0</span>]        │    <span style=\"font-weight: bold\">-</span>    │\n",
              "├────────────────────────┼──────────────────────┼──────────────┼─────────────────────┼─────────┤\n",
              "│ max_pooling2d_32       │ (<span style=\"color: #00d7ff; text-decoration-color: #00d7ff\">None</span>, <span style=\"color: #00af00; text-decoration-color: #00af00\">12</span>, <span style=\"color: #00af00; text-decoration-color: #00af00\">12</span>, <span style=\"color: #00af00; text-decoration-color: #00af00\">128</span>)  │            <span style=\"color: #00af00; text-decoration-color: #00af00\">0</span> │ re_lu_109[<span style=\"color: #00af00; text-decoration-color: #00af00\">0</span>][<span style=\"color: #00af00; text-decoration-color: #00af00\">0</span>]     │    <span style=\"font-weight: bold\">-</span>    │\n",
              "│ (<span style=\"color: #0087ff; text-decoration-color: #0087ff\">MaxPooling2D</span>)         │                      │              │                     │         │\n",
              "├────────────────────────┼──────────────────────┼──────────────┼─────────────────────┼─────────┤\n",
              "│ global_average_poolin… │ (<span style=\"color: #00d7ff; text-decoration-color: #00d7ff\">None</span>, <span style=\"color: #00af00; text-decoration-color: #00af00\">128</span>)          │            <span style=\"color: #00af00; text-decoration-color: #00af00\">0</span> │ max_pooling2d_32[<span style=\"color: #00af00; text-decoration-color: #00af00\">0</span>… │    <span style=\"font-weight: bold\">-</span>    │\n",
              "│ (<span style=\"color: #0087ff; text-decoration-color: #0087ff\">GlobalAveragePooling…</span> │                      │              │                     │         │\n",
              "├────────────────────────┼──────────────────────┼──────────────┼─────────────────────┼─────────┤\n",
              "│ dense_20 (<span style=\"color: #0087ff; text-decoration-color: #0087ff\">Dense</span>)       │ (<span style=\"color: #00d7ff; text-decoration-color: #00d7ff\">None</span>, <span style=\"color: #00af00; text-decoration-color: #00af00\">64</span>)           │        <span style=\"color: #00af00; text-decoration-color: #00af00\">8,256</span> │ global_average_poo… │    <span style=\"color: #00af00; text-decoration-color: #00af00; font-weight: bold\">Y</span>    │\n",
              "├────────────────────────┼──────────────────────┼──────────────┼─────────────────────┼─────────┤\n",
              "│ dropout_10 (<span style=\"color: #0087ff; text-decoration-color: #0087ff\">Dropout</span>)   │ (<span style=\"color: #00d7ff; text-decoration-color: #00d7ff\">None</span>, <span style=\"color: #00af00; text-decoration-color: #00af00\">64</span>)           │            <span style=\"color: #00af00; text-decoration-color: #00af00\">0</span> │ dense_20[<span style=\"color: #00af00; text-decoration-color: #00af00\">0</span>][<span style=\"color: #00af00; text-decoration-color: #00af00\">0</span>]      │    <span style=\"font-weight: bold\">-</span>    │\n",
              "├────────────────────────┼──────────────────────┼──────────────┼─────────────────────┼─────────┤\n",
              "│ dense_21 (<span style=\"color: #0087ff; text-decoration-color: #0087ff\">Dense</span>)       │ (<span style=\"color: #00d7ff; text-decoration-color: #00d7ff\">None</span>, <span style=\"color: #00af00; text-decoration-color: #00af00\">8</span>)            │          <span style=\"color: #00af00; text-decoration-color: #00af00\">520</span> │ dropout_10[<span style=\"color: #00af00; text-decoration-color: #00af00\">0</span>][<span style=\"color: #00af00; text-decoration-color: #00af00\">0</span>]    │    <span style=\"color: #00af00; text-decoration-color: #00af00; font-weight: bold\">Y</span>    │\n",
              "└────────────────────────┴──────────────────────┴──────────────┴─────────────────────┴─────────┘\n",
              "</pre>\n"
            ]
          },
          "metadata": {}
        },
        {
          "output_type": "display_data",
          "data": {
            "text/plain": [
              "\u001b[1m Total params: \u001b[0m\u001b[38;5;34m48,488\u001b[0m (189.41 KB)\n"
            ],
            "text/html": [
              "<pre style=\"white-space:pre;overflow-x:auto;line-height:normal;font-family:Menlo,'DejaVu Sans Mono',consolas,'Courier New',monospace\"><span style=\"font-weight: bold\"> Total params: </span><span style=\"color: #00af00; text-decoration-color: #00af00\">48,488</span> (189.41 KB)\n",
              "</pre>\n"
            ]
          },
          "metadata": {}
        },
        {
          "output_type": "display_data",
          "data": {
            "text/plain": [
              "\u001b[1m Trainable params: \u001b[0m\u001b[38;5;34m47,528\u001b[0m (185.66 KB)\n"
            ],
            "text/html": [
              "<pre style=\"white-space:pre;overflow-x:auto;line-height:normal;font-family:Menlo,'DejaVu Sans Mono',consolas,'Courier New',monospace\"><span style=\"font-weight: bold\"> Trainable params: </span><span style=\"color: #00af00; text-decoration-color: #00af00\">47,528</span> (185.66 KB)\n",
              "</pre>\n"
            ]
          },
          "metadata": {}
        },
        {
          "output_type": "display_data",
          "data": {
            "text/plain": [
              "\u001b[1m Non-trainable params: \u001b[0m\u001b[38;5;34m960\u001b[0m (3.75 KB)\n"
            ],
            "text/html": [
              "<pre style=\"white-space:pre;overflow-x:auto;line-height:normal;font-family:Menlo,'DejaVu Sans Mono',consolas,'Courier New',monospace\"><span style=\"font-weight: bold\"> Non-trainable params: </span><span style=\"color: #00af00; text-decoration-color: #00af00\">960</span> (3.75 KB)\n",
              "</pre>\n"
            ]
          },
          "metadata": {}
        }
      ]
    },
    {
      "cell_type": "code",
      "source": [
        "# Define the patience value for early stopping\n",
        "patience = 20\n",
        "\n",
        "# Create an EarlyStopping callback\n",
        "early_stopping = tfk.callbacks.EarlyStopping(\n",
        "    monitor='val_accuracy',\n",
        "    mode='max',\n",
        "    patience=patience,\n",
        "    restore_best_weights=True\n",
        ")\n",
        "\n",
        "# Store the callback in a list\n",
        "callbacks = [early_stopping]\n",
        "\n",
        "# Train the model with early stopping callback\n",
        "history = model.fit(\n",
        "    x=x_train,\n",
        "    y=y_train,\n",
        "    batch_size=batch_size,\n",
        "    epochs=epochs,\n",
        "    validation_data=(x_val, y_val),\n",
        "    callbacks=callbacks\n",
        ").history\n",
        "\n",
        "# Calculate and print the final validation accuracy\n",
        "final_val_accuracy = round(max(history['val_accuracy'])* 100, 2)\n",
        "print(f'Final validation accuracy: {final_val_accuracy}%')\n",
        "\n",
        "model.save('weights.keras')\n",
        "del model\n",
        "\n",
        "\n",
        "\n"
      ],
      "metadata": {
        "colab": {
          "base_uri": "https://localhost:8080/",
          "height": 1000
        },
        "id": "MqJSTTPNEWn1",
        "outputId": "953de60a-91d9-4ab1-ee87-a850d3a0058b"
      },
      "execution_count": 56,
      "outputs": [
        {
          "output_type": "stream",
          "name": "stdout",
          "text": [
            "Epoch 1/50\n",
            "\u001b[1m194/194\u001b[0m \u001b[32m━━━━━━━━━━━━━━━━━━━━\u001b[0m\u001b[37m\u001b[0m \u001b[1m21s\u001b[0m 63ms/step - accuracy: 0.4562 - loss: 1.6009 - val_accuracy: 0.2435 - val_loss: 2.9154\n",
            "Epoch 2/50\n",
            "\u001b[1m194/194\u001b[0m \u001b[32m━━━━━━━━━━━━━━━━━━━━\u001b[0m\u001b[37m\u001b[0m \u001b[1m12s\u001b[0m 59ms/step - accuracy: 0.7375 - loss: 0.7493 - val_accuracy: 0.1846 - val_loss: 3.6990\n",
            "Epoch 3/50\n",
            "\u001b[1m194/194\u001b[0m \u001b[32m━━━━━━━━━━━━━━━━━━━━\u001b[0m\u001b[37m\u001b[0m \u001b[1m21s\u001b[0m 61ms/step - accuracy: 0.7729 - loss: 0.6358 - val_accuracy: 0.4259 - val_loss: 1.9501\n",
            "Epoch 4/50\n",
            "\u001b[1m194/194\u001b[0m \u001b[32m━━━━━━━━━━━━━━━━━━━━\u001b[0m\u001b[37m\u001b[0m \u001b[1m20s\u001b[0m 60ms/step - accuracy: 0.7948 - loss: 0.5783 - val_accuracy: 0.2725 - val_loss: 5.8939\n",
            "Epoch 5/50\n",
            "\u001b[1m194/194\u001b[0m \u001b[32m━━━━━━━━━━━━━━━━━━━━\u001b[0m\u001b[37m\u001b[0m \u001b[1m20s\u001b[0m 59ms/step - accuracy: 0.8094 - loss: 0.5234 - val_accuracy: 0.6533 - val_loss: 1.0242\n",
            "Epoch 6/50\n",
            "\u001b[1m194/194\u001b[0m \u001b[32m━━━━━━━━━━━━━━━━━━━━\u001b[0m\u001b[37m\u001b[0m \u001b[1m20s\u001b[0m 59ms/step - accuracy: 0.8090 - loss: 0.5255 - val_accuracy: 0.4455 - val_loss: 3.2810\n",
            "Epoch 7/50\n",
            "\u001b[1m194/194\u001b[0m \u001b[32m━━━━━━━━━━━━━━━━━━━━\u001b[0m\u001b[37m\u001b[0m \u001b[1m21s\u001b[0m 59ms/step - accuracy: 0.8219 - loss: 0.4867 - val_accuracy: 0.4346 - val_loss: 2.5986\n",
            "Epoch 8/50\n",
            "\u001b[1m194/194\u001b[0m \u001b[32m━━━━━━━━━━━━━━━━━━━━\u001b[0m\u001b[37m\u001b[0m \u001b[1m20s\u001b[0m 59ms/step - accuracy: 0.8213 - loss: 0.4834 - val_accuracy: 0.2195 - val_loss: 8.0681\n",
            "Epoch 9/50\n",
            "\u001b[1m194/194\u001b[0m \u001b[32m━━━━━━━━━━━━━━━━━━━━\u001b[0m\u001b[37m\u001b[0m \u001b[1m12s\u001b[0m 59ms/step - accuracy: 0.8191 - loss: 0.4834 - val_accuracy: 0.4688 - val_loss: 2.5590\n",
            "Epoch 10/50\n",
            "\u001b[1m194/194\u001b[0m \u001b[32m━━━━━━━━━━━━━━━━━━━━\u001b[0m\u001b[37m\u001b[0m \u001b[1m11s\u001b[0m 58ms/step - accuracy: 0.8295 - loss: 0.4589 - val_accuracy: 0.6795 - val_loss: 1.1109\n",
            "Epoch 11/50\n",
            "\u001b[1m194/194\u001b[0m \u001b[32m━━━━━━━━━━━━━━━━━━━━\u001b[0m\u001b[37m\u001b[0m \u001b[1m11s\u001b[0m 58ms/step - accuracy: 0.8298 - loss: 0.4521 - val_accuracy: 0.5000 - val_loss: 2.6501\n",
            "Epoch 12/50\n",
            "\u001b[1m194/194\u001b[0m \u001b[32m━━━━━━━━━━━━━━━━━━━━\u001b[0m\u001b[37m\u001b[0m \u001b[1m21s\u001b[0m 59ms/step - accuracy: 0.8346 - loss: 0.4453 - val_accuracy: 0.6141 - val_loss: 1.2197\n",
            "Epoch 13/50\n",
            "\u001b[1m194/194\u001b[0m \u001b[32m━━━━━━━━━━━━━━━━━━━━\u001b[0m\u001b[37m\u001b[0m \u001b[1m21s\u001b[0m 60ms/step - accuracy: 0.8373 - loss: 0.4381 - val_accuracy: 0.2100 - val_loss: 7.0297\n",
            "Epoch 14/50\n",
            "\u001b[1m194/194\u001b[0m \u001b[32m━━━━━━━━━━━━━━━━━━━━\u001b[0m\u001b[37m\u001b[0m \u001b[1m11s\u001b[0m 59ms/step - accuracy: 0.8400 - loss: 0.4219 - val_accuracy: 0.6708 - val_loss: 1.0395\n",
            "Epoch 15/50\n",
            "\u001b[1m194/194\u001b[0m \u001b[32m━━━━━━━━━━━━━━━━━━━━\u001b[0m\u001b[37m\u001b[0m \u001b[1m20s\u001b[0m 59ms/step - accuracy: 0.8362 - loss: 0.4382 - val_accuracy: 0.1679 - val_loss: 6.2148\n",
            "Epoch 16/50\n",
            "\u001b[1m194/194\u001b[0m \u001b[32m━━━━━━━━━━━━━━━━━━━━\u001b[0m\u001b[37m\u001b[0m \u001b[1m20s\u001b[0m 59ms/step - accuracy: 0.8423 - loss: 0.4143 - val_accuracy: 0.4956 - val_loss: 2.2643\n",
            "Epoch 17/50\n",
            "\u001b[1m194/194\u001b[0m \u001b[32m━━━━━━━━━━━━━━━━━━━━\u001b[0m\u001b[37m\u001b[0m \u001b[1m21s\u001b[0m 60ms/step - accuracy: 0.8445 - loss: 0.4098 - val_accuracy: 0.4048 - val_loss: 2.0218\n",
            "Epoch 18/50\n",
            "\u001b[1m194/194\u001b[0m \u001b[32m━━━━━━━━━━━━━━━━━━━━\u001b[0m\u001b[37m\u001b[0m \u001b[1m20s\u001b[0m 60ms/step - accuracy: 0.8504 - loss: 0.3962 - val_accuracy: 0.4390 - val_loss: 2.5840\n",
            "Epoch 19/50\n",
            "\u001b[1m194/194\u001b[0m \u001b[32m━━━━━━━━━━━━━━━━━━━━\u001b[0m\u001b[37m\u001b[0m \u001b[1m12s\u001b[0m 60ms/step - accuracy: 0.8438 - loss: 0.4134 - val_accuracy: 0.5567 - val_loss: 1.4528\n",
            "Epoch 20/50\n",
            "\u001b[1m 73/194\u001b[0m \u001b[32m━━━━━━━\u001b[0m\u001b[37m━━━━━━━━━━━━━\u001b[0m \u001b[1m7s\u001b[0m 60ms/step - accuracy: 0.8467 - loss: 0.4026"
          ]
        },
        {
          "output_type": "error",
          "ename": "KeyboardInterrupt",
          "evalue": "",
          "traceback": [
            "\u001b[0;31m---------------------------------------------------------------------------\u001b[0m",
            "\u001b[0;31mKeyboardInterrupt\u001b[0m                         Traceback (most recent call last)",
            "\u001b[0;32m<ipython-input-56-327fa01ee787>\u001b[0m in \u001b[0;36m<cell line: 16>\u001b[0;34m()\u001b[0m\n\u001b[1;32m     14\u001b[0m \u001b[0;34m\u001b[0m\u001b[0m\n\u001b[1;32m     15\u001b[0m \u001b[0;31m# Train the model with early stopping callback\u001b[0m\u001b[0;34m\u001b[0m\u001b[0;34m\u001b[0m\u001b[0m\n\u001b[0;32m---> 16\u001b[0;31m history = model.fit(\n\u001b[0m\u001b[1;32m     17\u001b[0m     \u001b[0mx\u001b[0m\u001b[0;34m=\u001b[0m\u001b[0mx_train\u001b[0m\u001b[0;34m,\u001b[0m\u001b[0;34m\u001b[0m\u001b[0;34m\u001b[0m\u001b[0m\n\u001b[1;32m     18\u001b[0m     \u001b[0my\u001b[0m\u001b[0;34m=\u001b[0m\u001b[0my_train\u001b[0m\u001b[0;34m,\u001b[0m\u001b[0;34m\u001b[0m\u001b[0;34m\u001b[0m\u001b[0m\n",
            "\u001b[0;32m/usr/local/lib/python3.10/dist-packages/keras/src/utils/traceback_utils.py\u001b[0m in \u001b[0;36merror_handler\u001b[0;34m(*args, **kwargs)\u001b[0m\n\u001b[1;32m    115\u001b[0m         \u001b[0mfiltered_tb\u001b[0m \u001b[0;34m=\u001b[0m \u001b[0;32mNone\u001b[0m\u001b[0;34m\u001b[0m\u001b[0;34m\u001b[0m\u001b[0m\n\u001b[1;32m    116\u001b[0m         \u001b[0;32mtry\u001b[0m\u001b[0;34m:\u001b[0m\u001b[0;34m\u001b[0m\u001b[0;34m\u001b[0m\u001b[0m\n\u001b[0;32m--> 117\u001b[0;31m             \u001b[0;32mreturn\u001b[0m \u001b[0mfn\u001b[0m\u001b[0;34m(\u001b[0m\u001b[0;34m*\u001b[0m\u001b[0margs\u001b[0m\u001b[0;34m,\u001b[0m \u001b[0;34m**\u001b[0m\u001b[0mkwargs\u001b[0m\u001b[0;34m)\u001b[0m\u001b[0;34m\u001b[0m\u001b[0;34m\u001b[0m\u001b[0m\n\u001b[0m\u001b[1;32m    118\u001b[0m         \u001b[0;32mexcept\u001b[0m \u001b[0mException\u001b[0m \u001b[0;32mas\u001b[0m \u001b[0me\u001b[0m\u001b[0;34m:\u001b[0m\u001b[0;34m\u001b[0m\u001b[0;34m\u001b[0m\u001b[0m\n\u001b[1;32m    119\u001b[0m             \u001b[0mfiltered_tb\u001b[0m \u001b[0;34m=\u001b[0m \u001b[0m_process_traceback_frames\u001b[0m\u001b[0;34m(\u001b[0m\u001b[0me\u001b[0m\u001b[0;34m.\u001b[0m\u001b[0m__traceback__\u001b[0m\u001b[0;34m)\u001b[0m\u001b[0;34m\u001b[0m\u001b[0;34m\u001b[0m\u001b[0m\n",
            "\u001b[0;32m/usr/local/lib/python3.10/dist-packages/keras/src/backend/tensorflow/trainer.py\u001b[0m in \u001b[0;36mfit\u001b[0;34m(self, x, y, batch_size, epochs, verbose, callbacks, validation_split, validation_data, shuffle, class_weight, sample_weight, initial_epoch, steps_per_epoch, validation_steps, validation_batch_size, validation_freq)\u001b[0m\n\u001b[1;32m    318\u001b[0m                     \u001b[0mlogs\u001b[0m \u001b[0;34m=\u001b[0m \u001b[0mself\u001b[0m\u001b[0;34m.\u001b[0m\u001b[0mtrain_function\u001b[0m\u001b[0;34m(\u001b[0m\u001b[0miterator\u001b[0m\u001b[0;34m)\u001b[0m\u001b[0;34m\u001b[0m\u001b[0;34m\u001b[0m\u001b[0m\n\u001b[1;32m    319\u001b[0m                     \u001b[0mlogs\u001b[0m \u001b[0;34m=\u001b[0m \u001b[0mself\u001b[0m\u001b[0;34m.\u001b[0m\u001b[0m_pythonify_logs\u001b[0m\u001b[0;34m(\u001b[0m\u001b[0mlogs\u001b[0m\u001b[0;34m)\u001b[0m\u001b[0;34m\u001b[0m\u001b[0;34m\u001b[0m\u001b[0m\n\u001b[0;32m--> 320\u001b[0;31m                     \u001b[0mcallbacks\u001b[0m\u001b[0;34m.\u001b[0m\u001b[0mon_train_batch_end\u001b[0m\u001b[0;34m(\u001b[0m\u001b[0mstep\u001b[0m\u001b[0;34m,\u001b[0m \u001b[0mlogs\u001b[0m\u001b[0;34m)\u001b[0m\u001b[0;34m\u001b[0m\u001b[0;34m\u001b[0m\u001b[0m\n\u001b[0m\u001b[1;32m    321\u001b[0m                     \u001b[0;32mif\u001b[0m \u001b[0mself\u001b[0m\u001b[0;34m.\u001b[0m\u001b[0mstop_training\u001b[0m\u001b[0;34m:\u001b[0m\u001b[0;34m\u001b[0m\u001b[0;34m\u001b[0m\u001b[0m\n\u001b[1;32m    322\u001b[0m                         \u001b[0;32mbreak\u001b[0m\u001b[0;34m\u001b[0m\u001b[0;34m\u001b[0m\u001b[0m\n",
            "\u001b[0;32m/usr/local/lib/python3.10/dist-packages/keras/src/callbacks/callback_list.py\u001b[0m in \u001b[0;36mon_train_batch_end\u001b[0;34m(self, batch, logs)\u001b[0m\n\u001b[1;32m    104\u001b[0m         \u001b[0mlogs\u001b[0m \u001b[0;34m=\u001b[0m \u001b[0mlogs\u001b[0m \u001b[0;32mor\u001b[0m \u001b[0;34m{\u001b[0m\u001b[0;34m}\u001b[0m\u001b[0;34m\u001b[0m\u001b[0;34m\u001b[0m\u001b[0m\n\u001b[1;32m    105\u001b[0m         \u001b[0;32mfor\u001b[0m \u001b[0mcallback\u001b[0m \u001b[0;32min\u001b[0m \u001b[0mself\u001b[0m\u001b[0;34m.\u001b[0m\u001b[0mcallbacks\u001b[0m\u001b[0;34m:\u001b[0m\u001b[0;34m\u001b[0m\u001b[0;34m\u001b[0m\u001b[0m\n\u001b[0;32m--> 106\u001b[0;31m             \u001b[0mcallback\u001b[0m\u001b[0;34m.\u001b[0m\u001b[0mon_train_batch_end\u001b[0m\u001b[0;34m(\u001b[0m\u001b[0mbatch\u001b[0m\u001b[0;34m,\u001b[0m \u001b[0mlogs\u001b[0m\u001b[0;34m=\u001b[0m\u001b[0mlogs\u001b[0m\u001b[0;34m)\u001b[0m\u001b[0;34m\u001b[0m\u001b[0;34m\u001b[0m\u001b[0m\n\u001b[0m\u001b[1;32m    107\u001b[0m \u001b[0;34m\u001b[0m\u001b[0m\n\u001b[1;32m    108\u001b[0m     \u001b[0;32mdef\u001b[0m \u001b[0mon_test_batch_begin\u001b[0m\u001b[0;34m(\u001b[0m\u001b[0mself\u001b[0m\u001b[0;34m,\u001b[0m \u001b[0mbatch\u001b[0m\u001b[0;34m,\u001b[0m \u001b[0mlogs\u001b[0m\u001b[0;34m=\u001b[0m\u001b[0;32mNone\u001b[0m\u001b[0;34m)\u001b[0m\u001b[0;34m:\u001b[0m\u001b[0;34m\u001b[0m\u001b[0;34m\u001b[0m\u001b[0m\n",
            "\u001b[0;32m/usr/local/lib/python3.10/dist-packages/keras/src/callbacks/progbar_logger.py\u001b[0m in \u001b[0;36mon_train_batch_end\u001b[0;34m(self, batch, logs)\u001b[0m\n\u001b[1;32m     56\u001b[0m \u001b[0;34m\u001b[0m\u001b[0m\n\u001b[1;32m     57\u001b[0m     \u001b[0;32mdef\u001b[0m \u001b[0mon_train_batch_end\u001b[0m\u001b[0;34m(\u001b[0m\u001b[0mself\u001b[0m\u001b[0;34m,\u001b[0m \u001b[0mbatch\u001b[0m\u001b[0;34m,\u001b[0m \u001b[0mlogs\u001b[0m\u001b[0;34m=\u001b[0m\u001b[0;32mNone\u001b[0m\u001b[0;34m)\u001b[0m\u001b[0;34m:\u001b[0m\u001b[0;34m\u001b[0m\u001b[0;34m\u001b[0m\u001b[0m\n\u001b[0;32m---> 58\u001b[0;31m         \u001b[0mself\u001b[0m\u001b[0;34m.\u001b[0m\u001b[0m_update_progbar\u001b[0m\u001b[0;34m(\u001b[0m\u001b[0mbatch\u001b[0m\u001b[0;34m,\u001b[0m \u001b[0mlogs\u001b[0m\u001b[0;34m)\u001b[0m\u001b[0;34m\u001b[0m\u001b[0;34m\u001b[0m\u001b[0m\n\u001b[0m\u001b[1;32m     59\u001b[0m \u001b[0;34m\u001b[0m\u001b[0m\n\u001b[1;32m     60\u001b[0m     \u001b[0;32mdef\u001b[0m \u001b[0mon_test_batch_end\u001b[0m\u001b[0;34m(\u001b[0m\u001b[0mself\u001b[0m\u001b[0;34m,\u001b[0m \u001b[0mbatch\u001b[0m\u001b[0;34m,\u001b[0m \u001b[0mlogs\u001b[0m\u001b[0;34m=\u001b[0m\u001b[0;32mNone\u001b[0m\u001b[0;34m)\u001b[0m\u001b[0;34m:\u001b[0m\u001b[0;34m\u001b[0m\u001b[0;34m\u001b[0m\u001b[0m\n",
            "\u001b[0;32m/usr/local/lib/python3.10/dist-packages/keras/src/callbacks/progbar_logger.py\u001b[0m in \u001b[0;36m_update_progbar\u001b[0;34m(self, batch, logs)\u001b[0m\n\u001b[1;32m     93\u001b[0m \u001b[0;34m\u001b[0m\u001b[0m\n\u001b[1;32m     94\u001b[0m         \u001b[0;32mif\u001b[0m \u001b[0mself\u001b[0m\u001b[0;34m.\u001b[0m\u001b[0mverbose\u001b[0m \u001b[0;34m==\u001b[0m \u001b[0;36m1\u001b[0m\u001b[0;34m:\u001b[0m\u001b[0;34m\u001b[0m\u001b[0;34m\u001b[0m\u001b[0m\n\u001b[0;32m---> 95\u001b[0;31m             \u001b[0mself\u001b[0m\u001b[0;34m.\u001b[0m\u001b[0mprogbar\u001b[0m\u001b[0;34m.\u001b[0m\u001b[0mupdate\u001b[0m\u001b[0;34m(\u001b[0m\u001b[0mself\u001b[0m\u001b[0;34m.\u001b[0m\u001b[0mseen\u001b[0m\u001b[0;34m,\u001b[0m \u001b[0mlist\u001b[0m\u001b[0;34m(\u001b[0m\u001b[0mlogs\u001b[0m\u001b[0;34m.\u001b[0m\u001b[0mitems\u001b[0m\u001b[0;34m(\u001b[0m\u001b[0;34m)\u001b[0m\u001b[0;34m)\u001b[0m\u001b[0;34m,\u001b[0m \u001b[0mfinalize\u001b[0m\u001b[0;34m=\u001b[0m\u001b[0;32mFalse\u001b[0m\u001b[0;34m)\u001b[0m\u001b[0;34m\u001b[0m\u001b[0;34m\u001b[0m\u001b[0m\n\u001b[0m\u001b[1;32m     96\u001b[0m \u001b[0;34m\u001b[0m\u001b[0m\n\u001b[1;32m     97\u001b[0m     \u001b[0;32mdef\u001b[0m \u001b[0m_finalize_progbar\u001b[0m\u001b[0;34m(\u001b[0m\u001b[0mself\u001b[0m\u001b[0;34m,\u001b[0m \u001b[0mlogs\u001b[0m\u001b[0;34m)\u001b[0m\u001b[0;34m:\u001b[0m\u001b[0;34m\u001b[0m\u001b[0;34m\u001b[0m\u001b[0m\n",
            "\u001b[0;32m/usr/local/lib/python3.10/dist-packages/keras/src/utils/progbar.py\u001b[0m in \u001b[0;36mupdate\u001b[0;34m(self, current, values, finalize)\u001b[0m\n\u001b[1;32m    180\u001b[0m                 \u001b[0mmessage\u001b[0m \u001b[0;34m+=\u001b[0m \u001b[0;34m\"\\n\"\u001b[0m\u001b[0;34m\u001b[0m\u001b[0;34m\u001b[0m\u001b[0m\n\u001b[1;32m    181\u001b[0m \u001b[0;34m\u001b[0m\u001b[0m\n\u001b[0;32m--> 182\u001b[0;31m             \u001b[0mio_utils\u001b[0m\u001b[0;34m.\u001b[0m\u001b[0mprint_msg\u001b[0m\u001b[0;34m(\u001b[0m\u001b[0mmessage\u001b[0m\u001b[0;34m,\u001b[0m \u001b[0mline_break\u001b[0m\u001b[0;34m=\u001b[0m\u001b[0;32mFalse\u001b[0m\u001b[0;34m)\u001b[0m\u001b[0;34m\u001b[0m\u001b[0;34m\u001b[0m\u001b[0m\n\u001b[0m\u001b[1;32m    183\u001b[0m             \u001b[0mself\u001b[0m\u001b[0;34m.\u001b[0m\u001b[0m_prev_total_width\u001b[0m \u001b[0;34m=\u001b[0m \u001b[0mtotal_width\u001b[0m\u001b[0;34m\u001b[0m\u001b[0;34m\u001b[0m\u001b[0m\n\u001b[1;32m    184\u001b[0m             \u001b[0mmessage\u001b[0m \u001b[0;34m=\u001b[0m \u001b[0;34m\"\"\u001b[0m\u001b[0;34m\u001b[0m\u001b[0;34m\u001b[0m\u001b[0m\n",
            "\u001b[0;32m/usr/local/lib/python3.10/dist-packages/keras/src/utils/io_utils.py\u001b[0m in \u001b[0;36mprint_msg\u001b[0;34m(message, line_break)\u001b[0m\n\u001b[1;32m     96\u001b[0m             \u001b[0msys\u001b[0m\u001b[0;34m.\u001b[0m\u001b[0mstdout\u001b[0m\u001b[0;34m.\u001b[0m\u001b[0mwrite\u001b[0m\u001b[0;34m(\u001b[0m\u001b[0mmessage\u001b[0m \u001b[0;34m+\u001b[0m \u001b[0;34m\"\\n\"\u001b[0m\u001b[0;34m)\u001b[0m\u001b[0;34m\u001b[0m\u001b[0;34m\u001b[0m\u001b[0m\n\u001b[1;32m     97\u001b[0m         \u001b[0;32melse\u001b[0m\u001b[0;34m:\u001b[0m\u001b[0;34m\u001b[0m\u001b[0;34m\u001b[0m\u001b[0m\n\u001b[0;32m---> 98\u001b[0;31m             \u001b[0msys\u001b[0m\u001b[0;34m.\u001b[0m\u001b[0mstdout\u001b[0m\u001b[0;34m.\u001b[0m\u001b[0mwrite\u001b[0m\u001b[0;34m(\u001b[0m\u001b[0mmessage\u001b[0m\u001b[0;34m)\u001b[0m\u001b[0;34m\u001b[0m\u001b[0;34m\u001b[0m\u001b[0m\n\u001b[0m\u001b[1;32m     99\u001b[0m         \u001b[0msys\u001b[0m\u001b[0;34m.\u001b[0m\u001b[0mstdout\u001b[0m\u001b[0;34m.\u001b[0m\u001b[0mflush\u001b[0m\u001b[0;34m(\u001b[0m\u001b[0;34m)\u001b[0m\u001b[0;34m\u001b[0m\u001b[0;34m\u001b[0m\u001b[0m\n\u001b[1;32m    100\u001b[0m     \u001b[0;32melse\u001b[0m\u001b[0;34m:\u001b[0m\u001b[0;34m\u001b[0m\u001b[0;34m\u001b[0m\u001b[0m\n",
            "\u001b[0;32m/usr/local/lib/python3.10/dist-packages/ipykernel/iostream.py\u001b[0m in \u001b[0;36mwrite\u001b[0;34m(self, string)\u001b[0m\n\u001b[1;32m    400\u001b[0m             \u001b[0mis_child\u001b[0m \u001b[0;34m=\u001b[0m \u001b[0;34m(\u001b[0m\u001b[0;32mnot\u001b[0m \u001b[0mself\u001b[0m\u001b[0;34m.\u001b[0m\u001b[0m_is_master_process\u001b[0m\u001b[0;34m(\u001b[0m\u001b[0;34m)\u001b[0m\u001b[0;34m)\u001b[0m\u001b[0;34m\u001b[0m\u001b[0;34m\u001b[0m\u001b[0m\n\u001b[1;32m    401\u001b[0m             \u001b[0;31m# only touch the buffer in the IO thread to avoid races\u001b[0m\u001b[0;34m\u001b[0m\u001b[0;34m\u001b[0m\u001b[0m\n\u001b[0;32m--> 402\u001b[0;31m             \u001b[0mself\u001b[0m\u001b[0;34m.\u001b[0m\u001b[0mpub_thread\u001b[0m\u001b[0;34m.\u001b[0m\u001b[0mschedule\u001b[0m\u001b[0;34m(\u001b[0m\u001b[0;32mlambda\u001b[0m \u001b[0;34m:\u001b[0m \u001b[0mself\u001b[0m\u001b[0;34m.\u001b[0m\u001b[0m_buffer\u001b[0m\u001b[0;34m.\u001b[0m\u001b[0mwrite\u001b[0m\u001b[0;34m(\u001b[0m\u001b[0mstring\u001b[0m\u001b[0;34m)\u001b[0m\u001b[0;34m)\u001b[0m\u001b[0;34m\u001b[0m\u001b[0;34m\u001b[0m\u001b[0m\n\u001b[0m\u001b[1;32m    403\u001b[0m             \u001b[0;32mif\u001b[0m \u001b[0mis_child\u001b[0m\u001b[0;34m:\u001b[0m\u001b[0;34m\u001b[0m\u001b[0;34m\u001b[0m\u001b[0m\n\u001b[1;32m    404\u001b[0m                 \u001b[0;31m# mp.Pool cannot be trusted to flush promptly (or ever),\u001b[0m\u001b[0;34m\u001b[0m\u001b[0;34m\u001b[0m\u001b[0m\n",
            "\u001b[0;32m/usr/local/lib/python3.10/dist-packages/ipykernel/iostream.py\u001b[0m in \u001b[0;36mschedule\u001b[0;34m(self, f)\u001b[0m\n\u001b[1;32m    201\u001b[0m             \u001b[0mself\u001b[0m\u001b[0;34m.\u001b[0m\u001b[0m_events\u001b[0m\u001b[0;34m.\u001b[0m\u001b[0mappend\u001b[0m\u001b[0;34m(\u001b[0m\u001b[0mf\u001b[0m\u001b[0;34m)\u001b[0m\u001b[0;34m\u001b[0m\u001b[0;34m\u001b[0m\u001b[0m\n\u001b[1;32m    202\u001b[0m             \u001b[0;31m# wake event thread (message content is ignored)\u001b[0m\u001b[0;34m\u001b[0m\u001b[0;34m\u001b[0m\u001b[0m\n\u001b[0;32m--> 203\u001b[0;31m             \u001b[0mself\u001b[0m\u001b[0;34m.\u001b[0m\u001b[0m_event_pipe\u001b[0m\u001b[0;34m.\u001b[0m\u001b[0msend\u001b[0m\u001b[0;34m(\u001b[0m\u001b[0;34mb''\u001b[0m\u001b[0;34m)\u001b[0m\u001b[0;34m\u001b[0m\u001b[0;34m\u001b[0m\u001b[0m\n\u001b[0m\u001b[1;32m    204\u001b[0m         \u001b[0;32melse\u001b[0m\u001b[0;34m:\u001b[0m\u001b[0;34m\u001b[0m\u001b[0;34m\u001b[0m\u001b[0m\n\u001b[1;32m    205\u001b[0m             \u001b[0mf\u001b[0m\u001b[0;34m(\u001b[0m\u001b[0;34m)\u001b[0m\u001b[0;34m\u001b[0m\u001b[0;34m\u001b[0m\u001b[0m\n",
            "\u001b[0;32m/usr/local/lib/python3.10/dist-packages/zmq/sugar/socket.py\u001b[0m in \u001b[0;36msend\u001b[0;34m(self, data, flags, copy, track, routing_id, group)\u001b[0m\n\u001b[1;32m    618\u001b[0m                 )\n\u001b[1;32m    619\u001b[0m             \u001b[0mdata\u001b[0m\u001b[0;34m.\u001b[0m\u001b[0mgroup\u001b[0m \u001b[0;34m=\u001b[0m \u001b[0mgroup\u001b[0m\u001b[0;34m\u001b[0m\u001b[0;34m\u001b[0m\u001b[0m\n\u001b[0;32m--> 620\u001b[0;31m         \u001b[0;32mreturn\u001b[0m \u001b[0msuper\u001b[0m\u001b[0;34m(\u001b[0m\u001b[0;34m)\u001b[0m\u001b[0;34m.\u001b[0m\u001b[0msend\u001b[0m\u001b[0;34m(\u001b[0m\u001b[0mdata\u001b[0m\u001b[0;34m,\u001b[0m \u001b[0mflags\u001b[0m\u001b[0;34m=\u001b[0m\u001b[0mflags\u001b[0m\u001b[0;34m,\u001b[0m \u001b[0mcopy\u001b[0m\u001b[0;34m=\u001b[0m\u001b[0mcopy\u001b[0m\u001b[0;34m,\u001b[0m \u001b[0mtrack\u001b[0m\u001b[0;34m=\u001b[0m\u001b[0mtrack\u001b[0m\u001b[0;34m)\u001b[0m\u001b[0;34m\u001b[0m\u001b[0;34m\u001b[0m\u001b[0m\n\u001b[0m\u001b[1;32m    621\u001b[0m \u001b[0;34m\u001b[0m\u001b[0m\n\u001b[1;32m    622\u001b[0m     def send_multipart(\n",
            "\u001b[0;32mzmq/backend/cython/socket.pyx\u001b[0m in \u001b[0;36mzmq.backend.cython.socket.Socket.send\u001b[0;34m()\u001b[0m\n",
            "\u001b[0;32mzmq/backend/cython/socket.pyx\u001b[0m in \u001b[0;36mzmq.backend.cython.socket.Socket.send\u001b[0;34m()\u001b[0m\n",
            "\u001b[0;32mzmq/backend/cython/socket.pyx\u001b[0m in \u001b[0;36mzmq.backend.cython.socket._send_copy\u001b[0;34m()\u001b[0m\n",
            "\u001b[0;32m/usr/local/lib/python3.10/dist-packages/zmq/backend/cython/checkrc.pxd\u001b[0m in \u001b[0;36mzmq.backend.cython.checkrc._check_rc\u001b[0;34m()\u001b[0m\n",
            "\u001b[0;31mKeyboardInterrupt\u001b[0m: "
          ]
        }
      ]
    },
    {
      "cell_type": "code",
      "source": [
        "# Plot training and validation loss\n",
        "plt.figure(figsize=(15, 2))\n",
        "plt.plot(history['loss'], label='Training loss', alpha=.8)\n",
        "plt.plot(history['val_loss'], label='Validation loss', alpha=.8)\n",
        "plt.title('Loss')\n",
        "plt.legend()\n",
        "plt.grid(alpha=.3)\n",
        "\n",
        "# Plot training and validation accuracy\n",
        "plt.figure(figsize=(15, 2))\n",
        "plt.plot(history['accuracy'], label='Training accuracy', alpha=.8)\n",
        "plt.plot(history['val_accuracy'], label='Validation accuracy', alpha=.8)\n",
        "plt.title('Accuracy')\n",
        "plt.legend()\n",
        "plt.grid(alpha=.3)\n",
        "plt.show()"
      ],
      "metadata": {
        "colab": {
          "base_uri": "https://localhost:8080/",
          "height": 457
        },
        "id": "EYsjTWzYE1iz",
        "outputId": "c8e04b56-767f-4c73-bdfc-de4676760f8b"
      },
      "execution_count": 44,
      "outputs": [
        {
          "output_type": "display_data",
          "data": {
            "text/plain": [
              "<Figure size 1500x200 with 1 Axes>"
            ],
            "image/png": "[encoded data removed]"
          },
          "metadata": {}
        },
        {
          "output_type": "display_data",
          "data": {
            "text/plain": [
              "<Figure size 1500x200 with 1 Axes>"
            ],
            "image/png": "[encoded data removed]"
          },
          "metadata": {}
        }
      ]
    },
    {
      "cell_type": "markdown",
      "source": [
        "## 📊 Prepare Your Submission\n",
        "\n",
        "To prepare your submission, create a `.zip` file that includes all the necessary code to run your model. It **must** include a `model.py` file with the following class:\n",
        "\n",
        "```python\n",
        "# file: model.py\n",
        "class Model:\n",
        "    def __init__(self):\n",
        "        \"\"\"Initialize the internal state of the model.\"\"\"\n",
        "\n",
        "    def predict(self, X):\n",
        "        \"\"\"Return a numpy array with the labels corresponding to the input X.\"\"\"\n",
        "```\n",
        "\n",
        "The next cell shows an example implementation of the `model.py` file, which includes loading model weights from the `weights.keras` file and conducting predictions on provided input data. The `.zip` file is created and downloaded in the last notebook cell.\n",
        "\n",
        "❗ Feel free to modify the method implementations to better fit your specific requirements, but please ensure that the class name and method interfaces remain unchanged."
      ],
      "metadata": {
        "id": "RNp6pUZuddqC"
      }
    },
    {
      "cell_type": "code",
      "source": [
        "%%writefile model.py\n",
        "import numpy as np\n",
        "\n",
        "import tensorflow as tf\n",
        "from tensorflow import keras as tfk\n",
        "from tensorflow.keras import layers as tfkl\n",
        "\n",
        "\n",
        "class Model:\n",
        "    def __init__(self):\n",
        "        \"\"\"\n",
        "        Initialize the internal state of the model. Note that the __init__\n",
        "        method cannot accept any arguments.\n",
        "\n",
        "        The following is an example loading the weights of a pre-trained\n",
        "        model.\n",
        "        \"\"\"\n",
        "        self.neural_network = tfk.models.load_model('weights.keras')\n",
        "\n",
        "    def predict(self, X):\n",
        "        \"\"\"\n",
        "        Predict the labels corresponding to the input X. Note that X is a numpy\n",
        "        array of shape (n_samples, 96, 96, 3) and the output should be a numpy\n",
        "        array of shape (n_samples,). Therefore, outputs must no be one-hot\n",
        "        encoded.\n",
        "\n",
        "        The following is an example of a prediction from the pre-trained model\n",
        "        loaded in the __init__ method.\n",
        "        \"\"\"\n",
        "        preds = self.neural_network.predict(X)\n",
        "        if len(preds.shape) == 2:\n",
        "            preds = np.argmax(preds, axis=1)\n",
        "        return preds"
      ],
      "metadata": {
        "id": "RKT4h-9xYwiT"
      },
      "execution_count": null,
      "outputs": []
    },
    {
      "cell_type": "code",
      "source": [
        "from datetime import datetime\n",
        "filename = f'submission_{datetime.now().strftime(\"%y%m%d_%H%M%S\")}.zip'\n",
        "\n",
        "# Add files to the zip command if needed\n",
        "!zip {filename} model.py weights.keras\n",
        "\n",
        "from google.colab import files\n",
        "files.download(filename)"
      ],
      "metadata": {
        "id": "s18kX1uDconq"
      },
      "execution_count": null,
      "outputs": []
    }
  ]
}